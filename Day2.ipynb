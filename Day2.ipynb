{
 "cells": [
  {
   "cell_type": "markdown",
   "id": "6d7059e5",
   "metadata": {},
   "source": [
    "**NUMBERS DATA TYPES**<font size=\"20\">"
   ]
  },
  {
   "cell_type": "code",
   "execution_count": null,
   "id": "04a38253",
   "metadata": {},
   "outputs": [
    {
     "data": {
      "text/plain": [
       "5"
      ]
     },
     "execution_count": 1,
     "metadata": {},
     "output_type": "execute_result"
    }
   ],
   "source": [
    "#basic arithmetic operations and variable assignment\n",
    "x=2\n",
    "y=3\n",
    "z=4\n",
    "x+y\n"
   ]
  },
  {
   "cell_type": "code",
   "execution_count": null,
   "id": "53c48e39",
   "metadata": {},
   "outputs": [],
   "source": [
    "(x+y)*z\n",
    "# This code snippet calculates the sum of x and y, then multiplies the result by z.\n",
    "result = 40 + 3.14\n",
    "print(result)\n",
    "# OUTPUT: 43.14\n",
    "\n"
   ]
  },
  {
   "cell_type": "markdown",
   "id": "3aeeba91",
   "metadata": {},
   "source": [
    "WE SHOULD ALWAYS TAKE SAME DATA TYPES FOR OPERATIONS"
   ]
  },
  {
   "cell_type": "code",
   "execution_count": 3,
   "id": "30631b5e",
   "metadata": {},
   "outputs": [
    {
     "data": {
      "text/plain": [
       "'UzebKhan'"
      ]
     },
     "execution_count": 3,
     "metadata": {},
     "output_type": "execute_result"
    }
   ],
   "source": [
    "'Uzeb'+'Khan'\n",
    "# This code snippet concatenates two strings, 'Uzeb' and 'Khan', resulting in 'UzebKhan'."
   ]
  },
  {
   "cell_type": "code",
   "execution_count": 4,
   "id": "c285147c",
   "metadata": {},
   "outputs": [
    {
     "data": {
      "text/plain": [
       "(2, 3, 4)"
      ]
     },
     "execution_count": 4,
     "metadata": {},
     "output_type": "execute_result"
    }
   ],
   "source": [
    "x,y,z\n"
   ]
  },
  {
   "cell_type": "markdown",
   "id": "52996f37",
   "metadata": {},
   "source": [
    "Lists: Lists are ordered, mutable collections of items. They are defined using square brackets [].\n",
    "\n",
    "Tuples: Tuples are ordered, immutable collections of items. They are defined using parentheses ().\n",
    "\n",
    "Dictionaries: Dictionaries are unordered collections of key-value pairs. They are defined using curly braces {}, with keys and values separated by colons :.\n"
   ]
  },
  {
   "cell_type": "code",
   "execution_count": null,
   "id": "c1e18137",
   "metadata": {},
   "outputs": [
    {
     "data": {
      "text/plain": [
       "(3, 6)"
      ]
     },
     "execution_count": 5,
     "metadata": {},
     "output_type": "execute_result"
    }
   ],
   "source": [
    "#ex1\n",
    "x+1,y*2"
   ]
  },
  {
   "cell_type": "code",
   "execution_count": null,
   "id": "1678ec51",
   "metadata": {},
   "outputs": [
    {
     "data": {
      "text/plain": [
       "0"
      ]
     },
     "execution_count": 6,
     "metadata": {},
     "output_type": "execute_result"
    }
   ],
   "source": [
    "#ex2\n",
    "y % 3"
   ]
  },
  {
   "cell_type": "code",
   "execution_count": null,
   "id": "4b10b936",
   "metadata": {},
   "outputs": [
    {
     "data": {
      "text/plain": [
       "1267650600228229401496703205376"
      ]
     },
     "execution_count": 9,
     "metadata": {},
     "output_type": "execute_result"
    }
   ],
   "source": [
    "#ex3\n",
    "2**100"
   ]
  },
  {
   "cell_type": "code",
   "execution_count": null,
   "id": "4b854b51",
   "metadata": {},
   "outputs": [
    {
     "data": {
      "text/plain": [
       "True"
      ]
     },
     "execution_count": 11,
     "metadata": {},
     "output_type": "execute_result"
    }
   ],
   "source": [
    "1<2\n",
    "#ex4 inequality check"
   ]
  },
  {
   "cell_type": "code",
   "execution_count": 12,
   "id": "41d5d96d",
   "metadata": {},
   "outputs": [
    {
     "data": {
      "text/plain": [
       "True"
      ]
     },
     "execution_count": 12,
     "metadata": {},
     "output_type": "execute_result"
    }
   ],
   "source": [
    "5.0 == 5.0\n",
    "#ex5 equality check"
   ]
  },
  {
   "cell_type": "code",
   "execution_count": 13,
   "id": "a163d941",
   "metadata": {},
   "outputs": [
    {
     "data": {
      "text/plain": [
       "False"
      ]
     },
     "execution_count": 13,
     "metadata": {},
     "output_type": "execute_result"
    }
   ],
   "source": [
    "4.0!= 4.0\n",
    "#ex6 inequality check"
   ]
  },
  {
   "cell_type": "markdown",
   "id": "19181880",
   "metadata": {},
   "source": [
    "in python there are two boolean values\n",
    "true and false\n",
    "true also has a value=1\n",
    "false also has a value=0"
   ]
  },
  {
   "cell_type": "code",
   "execution_count": 14,
   "id": "24bff8b6",
   "metadata": {},
   "outputs": [
    {
     "data": {
      "text/plain": [
       "True"
      ]
     },
     "execution_count": 14,
     "metadata": {},
     "output_type": "execute_result"
    }
   ],
   "source": [
    "x,y,z=2,3,4\n",
    "x<y<z\n",
    "# This code snippet checks if x is less than y and y is less than z, returning True if both conditions are met.\n"
   ]
  },
  {
   "cell_type": "code",
   "execution_count": 15,
   "id": "8ba3a6cf",
   "metadata": {},
   "outputs": [
    {
     "data": {
      "text/plain": [
       "True"
      ]
     },
     "execution_count": 15,
     "metadata": {},
     "output_type": "execute_result"
    }
   ],
   "source": [
    "x<y and y<z\n",
    "# This code snippet checks if x is less than y and y is less than z, returning True if both conditions are met."
   ]
  },
  {
   "cell_type": "markdown",
   "id": "aa7d5de9",
   "metadata": {},
   "source": [
    "AND GIVE TRUE IF BOTH CONDITION ARE MET"
   ]
  },
  {
   "cell_type": "code",
   "execution_count": 16,
   "id": "aabbac8f",
   "metadata": {},
   "outputs": [
    {
     "data": {
      "text/plain": [
       "False"
      ]
     },
     "execution_count": 16,
     "metadata": {},
     "output_type": "execute_result"
    }
   ],
   "source": [
    "1==2<3\n",
    "# This code snippet checks if 1 is equal to 2 and if 2 is less than 3, returning True if both conditions are met."
   ]
  },
  {
   "cell_type": "markdown",
   "id": "910348df",
   "metadata": {},
   "source": [
    "import math is a library which import some mathematical function"
   ]
  },
  {
   "cell_type": "code",
   "execution_count": 18,
   "id": "26498c0e",
   "metadata": {},
   "outputs": [
    {
     "name": "stdout",
     "output_type": "stream",
     "text": [
      "2\n",
      "-4\n",
      "2\n",
      "-3\n"
     ]
    }
   ],
   "source": [
    "import math\n",
    "print(math.floor(2.9))\n",
    "print(math.floor(-3.5))\n",
    "#floor function rounds down to the nearest bottom integer according to the sign of the number.\n",
    "print(math.trunc(2.9))\n",
    "#trunc function truncates the decimal part of the number, returning only the integer part. towards zero.\n",
    "print(math.trunc(-3.5))\n",
    "#trunc function truncates the decimal part of the number, returning only the integer part. towards zero."
   ]
  },
  {
   "cell_type": "code",
   "execution_count": 19,
   "id": "fc72ad6e",
   "metadata": {},
   "outputs": [
    {
     "data": {
      "text/plain": [
       "(6+9j)"
      ]
     },
     "execution_count": 19,
     "metadata": {},
     "output_type": "execute_result"
    }
   ],
   "source": [
    "2+3j\n",
    "# This code snippet creates a complex number with real part 2 and imaginary part 3j. \n",
    "(2+3j)*3\n",
    "# This code snippet multiplies the complex number (2+3j) by 3, resulting in a new complex number. "
   ]
  },
  {
   "cell_type": "code",
   "execution_count": null,
   "id": "10492a9c",
   "metadata": {},
   "outputs": [],
   "source": [
    "0o20\n",
    "# This code snippet represents the octal number 20, which is equivalent to the decimal number 16.\n",
    "0xFF\n",
    "# This code snippet represents the hexadecimal number FF, which is equivalent to the decimal number 255.\n",
    "0b1000\n",
    "# This code snippet represents the binary number 1000, which is equivalent to the decimal number 8."
   ]
  },
  {
   "cell_type": "code",
   "execution_count": 24,
   "id": "00a0e982",
   "metadata": {},
   "outputs": [
    {
     "data": {
      "text/plain": [
       "'0o100'"
      ]
     },
     "execution_count": 24,
     "metadata": {},
     "output_type": "execute_result"
    }
   ],
   "source": [
    "oct(64)"
   ]
  },
  {
   "cell_type": "code",
   "execution_count": 25,
   "id": "2c28d820",
   "metadata": {},
   "outputs": [
    {
     "data": {
      "text/plain": [
       "'0xf5'"
      ]
     },
     "execution_count": 25,
     "metadata": {},
     "output_type": "execute_result"
    }
   ],
   "source": [
    "hex(245)"
   ]
  },
  {
   "cell_type": "code",
   "execution_count": 26,
   "id": "9a5a87a8",
   "metadata": {},
   "outputs": [
    {
     "data": {
      "text/plain": [
       "'0b1111101000'"
      ]
     },
     "execution_count": 26,
     "metadata": {},
     "output_type": "execute_result"
    }
   ],
   "source": [
    "bin(1000)"
   ]
  },
  {
   "cell_type": "markdown",
   "id": "39939ce1",
   "metadata": {},
   "source": [
    "**BITWISE FUNCTION**"
   ]
  },
  {
   "cell_type": "code",
   "execution_count": null,
   "id": "6e34ba68",
   "metadata": {},
   "outputs": [],
   "source": [
    "x=1\n",
    "x<<2\n",
    "# This code snippet performs a left bitwise shift on the binary representation of x (1) by 2 positions, resulting in 4 (binary 100)."
   ]
  },
  {
   "cell_type": "markdown",
   "id": "90cde19b",
   "metadata": {},
   "source": [
    "# Random Function #"
   ]
  },
  {
   "cell_type": "code",
   "execution_count": 27,
   "id": "8d38b910",
   "metadata": {},
   "outputs": [
    {
     "data": {
      "text/plain": [
       "8"
      ]
     },
     "execution_count": 27,
     "metadata": {},
     "output_type": "execute_result"
    }
   ],
   "source": [
    "import random\n",
    "random.randint(1, 10)\n",
    "# This code snippet generates a random integer between 1 and 10, inclusive."
   ]
  },
  {
   "cell_type": "code",
   "execution_count": 28,
   "id": "d5ea5014",
   "metadata": {},
   "outputs": [
    {
     "data": {
      "text/plain": [
       "2"
      ]
     },
     "execution_count": 28,
     "metadata": {},
     "output_type": "execute_result"
    }
   ],
   "source": [
    "import random\n",
    "l1=[1, 2, 3, 4, 5]\n",
    "random.choice(l1)\n",
    "# This code snippet selects a random element from the list l1, resulting in either 1, 2, 3, 4, or 5."
   ]
  },
  {
   "cell_type": "code",
   "execution_count": 35,
   "id": "b2a1b475",
   "metadata": {},
   "outputs": [
    {
     "name": "stdout",
     "output_type": "stream",
     "text": [
      "[5, 1, 3, 2, 4]\n"
     ]
    }
   ],
   "source": [
    "import random\n",
    "l1=[1, 2, 3, 4, 5]\n",
    "random.shuffle(l1)\n",
    "# This code snippet randomly shuffles the elements of the list l1, rearranging them in a new order.\n",
    "print(l1)"
   ]
  },
  {
   "cell_type": "markdown",
   "id": "10b3a2d5",
   "metadata": {},
   "source": [
    "# Decimals And Fractions #"
   ]
  },
  {
   "cell_type": "code",
   "execution_count": 36,
   "id": "6fd2b89e",
   "metadata": {},
   "outputs": [
    {
     "data": {
      "text/plain": [
       "0.7000000000000001"
      ]
     },
     "execution_count": 36,
     "metadata": {},
     "output_type": "execute_result"
    }
   ],
   "source": [
    "0.1 + 0.2 +0.4"
   ]
  },
  {
   "cell_type": "code",
   "execution_count": 38,
   "id": "8278b63a",
   "metadata": {},
   "outputs": [
    {
     "data": {
      "text/plain": [
       "Decimal('0.3')"
      ]
     },
     "execution_count": 38,
     "metadata": {},
     "output_type": "execute_result"
    }
   ],
   "source": [
    "(0.1+0.1+0.1)-0.3\n",
    "# This code snippet calculates the sum of three 0.1 values and subtracts 0.3, resulting in a floating-point precision issue.\n",
    "# To avoid floating-point precision issues, use the Decimal module for precise decimal arithmetic.\n",
    "from decimal import Decimal\n",
    "Decimal('0.1') + Decimal('0.1') + Decimal('0.1')"
   ]
  },
  {
   "cell_type": "code",
   "execution_count": 39,
   "id": "f8cb3775",
   "metadata": {},
   "outputs": [
    {
     "data": {
      "text/plain": [
       "Fraction(1, 1)"
      ]
     },
     "execution_count": 39,
     "metadata": {},
     "output_type": "execute_result"
    }
   ],
   "source": [
    "from fractions import Fraction\n",
    "Fraction(1, 3) + Fraction(1, 3) + Fraction(1, 3)\n",
    "# This code snippet adds three fractions, each representing one-third, resulting in a total of one whole (1)."
   ]
  },
  {
   "cell_type": "markdown",
   "id": "f5d20b05",
   "metadata": {},
   "source": [
    "# SET WHich Is Also Called Dictionary #"
   ]
  },
  {
   "cell_type": "code",
   "execution_count": 41,
   "id": "91ab3357",
   "metadata": {},
   "outputs": [
    {
     "data": {
      "text/plain": [
       "{2, 3}"
      ]
     },
     "execution_count": 41,
     "metadata": {},
     "output_type": "execute_result"
    }
   ],
   "source": [
    "set1 = {1, 2, 3}\n",
    "set1 & {2, 3, 4}\n",
    "# This code snippet performs an intersection operation on two sets, resulting in a new set containing elements common to both sets."
   ]
  },
  {
   "cell_type": "code",
   "execution_count": null,
   "id": "3d3a0e64",
   "metadata": {},
   "outputs": [
    {
     "data": {
      "text/plain": [
       "{1}"
      ]
     },
     "execution_count": 44,
     "metadata": {},
     "output_type": "execute_result"
    }
   ],
   "source": [
    "set1 = {1, 2, 3}\n",
    "set1 - {2, 3, 4}\n",
    "# This code snippet performs a union operation on set1 and another set, resulting in a new set containing all unique elements from both sets.\n",
    "#empty set is represented by set()"
   ]
  },
  {
   "cell_type": "code",
   "execution_count": 46,
   "id": "afe79470",
   "metadata": {},
   "outputs": [
    {
     "data": {
      "text/plain": [
       "2"
      ]
     },
     "execution_count": 46,
     "metadata": {},
     "output_type": "execute_result"
    }
   ],
   "source": [
    "type(True)\n",
    "True + 1\n",
    "# This code snippet checks the type of the boolean value True, which is <class 'bool'>, and adds 1 to it, resulting in 2."
   ]
  }
 ],
 "metadata": {
  "kernelspec": {
   "display_name": "base",
   "language": "python",
   "name": "python3"
  },
  "language_info": {
   "codemirror_mode": {
    "name": "ipython",
    "version": 3
   },
   "file_extension": ".py",
   "mimetype": "text/x-python",
   "name": "python",
   "nbconvert_exporter": "python",
   "pygments_lexer": "ipython3",
   "version": "3.13.5"
  }
 },
 "nbformat": 4,
 "nbformat_minor": 5
}
