{
 "cells": [
  {
   "cell_type": "markdown",
   "id": "b501e784",
   "metadata": {},
   "source": [
    "Conditionality Problems In Python"
   ]
  },
  {
   "cell_type": "markdown",
   "id": "ae837c8c",
   "metadata": {},
   "source": [
    "Q1.Age Class Specifier"
   ]
  },
  {
   "cell_type": "code",
   "execution_count": 1,
   "id": "6dbd23c1",
   "metadata": {},
   "outputs": [
    {
     "name": "stdout",
     "output_type": "stream",
     "text": [
      "You are a teenager.\n"
     ]
    }
   ],
   "source": [
    "Age=input(\"Enter Your Age:\")\n",
    "age=int(Age)\n",
    "if age < 13 and age >= 0:\n",
    "    print(\"You are a child.\")\n",
    "elif age >= 13 and age < 20:\n",
    "    print(\"You are a teenager.\")\n",
    "elif age >= 20 and age < 65:\n",
    "    print(\"You are an adult.\")\n",
    "elif age >= 65:\n",
    "    print(\"You are a senior citizen.\")\n",
    "else:\n",
    "    print(\"Invalid age entered.\")\n"
   ]
  },
  {
   "cell_type": "markdown",
   "id": "dd2a333e",
   "metadata": {},
   "source": [
    "Q2.Movie Ticket Specifier"
   ]
  },
  {
   "cell_type": "code",
   "execution_count": 5,
   "id": "70156f59",
   "metadata": {},
   "outputs": [
    {
     "name": "stdout",
     "output_type": "stream",
     "text": [
      "Your Ticket Price is 12 Dollars\n"
     ]
    }
   ],
   "source": [
    "Day=input(\"Enter Your Day:\")\n",
    "day=str(Day)\n",
    "age = int(input(\"Enter your age: \"))\n",
    "if age >= 18 and day == \"Wednesday\":\n",
    "    print(\"Your Ticket Price is 10 Dollars\")\n",
    "elif age < 18 and day == \"Wednesday\":\n",
    "    print(\"Your Ticket Price is 8 Dollars\")\n",
    "elif age >= 18 and day != \"Wednesday\":\n",
    "    print(\"Your Ticket Price is 12 Dollars\")\n",
    "else:\n",
    "    print(\"Your Ticket Price is 10 Dollars\")\n",
    "# Movie Ticket Pricing Based On Their Age"
   ]
  },
  {
   "cell_type": "markdown",
   "id": "28a3fc99",
   "metadata": {},
   "source": [
    "Q.3 Grade Calculator"
   ]
  },
  {
   "cell_type": "code",
   "execution_count": 1,
   "id": "a7e43e4a",
   "metadata": {},
   "outputs": [
    {
     "name": "stdout",
     "output_type": "stream",
     "text": [
      "Invalid score entered. Please enter a score between 0 and 100.\n",
      "You got an F grade.\n"
     ]
    }
   ],
   "source": [
    "score = int(input(\"Enter your score: \"))\n",
    "if score < 0 or score > 100:\n",
    "    print(\"Invalid score entered. Please enter a score between 0 and 100.\")\n",
    "if score <100 and score >=90:\n",
    "    print(\"You got an A grade.\")\n",
    "elif score<90 and score >=80:\n",
    "    print(\"You got a B grade.\")\n",
    "elif score<80 and score >=70:\n",
    "    print(\"You got a C grade.\")\n",
    "elif score<70 and score >=60:\n",
    "    print(\"You got a D grade.\")\n",
    "else:\n",
    "    print(\"You got an F grade.\")"
   ]
  },
  {
   "cell_type": "markdown",
   "id": "003857b5",
   "metadata": {},
   "source": [
    "Q4.Fruit Ripeness"
   ]
  },
  {
   "cell_type": "code",
   "execution_count": 2,
   "id": "74a9411f",
   "metadata": {},
   "outputs": [
    {
     "name": "stdout",
     "output_type": "stream",
     "text": [
      "The banana is not ripe.\n"
     ]
    }
   ],
   "source": [
    "fruit=str(input(\"Enter the fruit name: \"))\n",
    "color=str(input(\"Enter the color of the fruit: \"))\n",
    "if fruit.lower() == \"banana\" and color.lower() == \"yellow\":\n",
    "    print(\"The banana is ripe.\")\n",
    "elif fruit.lower() == \"banana\" and color.lower() == \"green\":\n",
    "    print(\"The banana is not ripe.\")\n",
    "elif fruit.lower() == \"banana\" and color.lower() == \"brown\":\n",
    "    print(\"The banana is overripe.\")\n",
    "else:\n",
    "    print(\"The fruit is not a banana or the color is not recognized.\")\n",
    "# Fruit Ripeness Based On Their Color\n"
   ]
  },
  {
   "cell_type": "markdown",
   "id": "25971c1d",
   "metadata": {},
   "source": [
    "Q5. Weather Activities Suggester"
   ]
  },
  {
   "cell_type": "code",
   "execution_count": 3,
   "id": "788927e1",
   "metadata": {},
   "outputs": [
    {
     "name": "stdout",
     "output_type": "stream",
     "text": [
      "You can stay indoors and read a book or watch a movie.\n"
     ]
    }
   ],
   "source": [
    "weather = str(input(\"Enter the weather (sunny, rainy, snowy): \").lower())\n",
    "if weather == \"sunny\":\n",
    "    print(\"You can go for a walk or have a picnic.\")\n",
    "elif weather == \"rainy\":\n",
    "    print(\"You can stay indoors and read a book or watch a movie.\")\n",
    "elif weather == \"snowy\":\n",
    "    print(\"You can go skiing or build a snowman.\")\n",
    "else:\n",
    "    print(\"Weather condition not recognized. Please enter sunny, rainy, or snowy.\")"
   ]
  },
  {
   "cell_type": "markdown",
   "id": "518dedf4",
   "metadata": {},
   "source": [
    "Q.6 Transport Mode Selector"
   ]
  },
  {
   "cell_type": "code",
   "execution_count": 4,
   "id": "351cf6c1",
   "metadata": {},
   "outputs": [
    {
     "name": "stdout",
     "output_type": "stream",
     "text": [
      "You can take a car or public transport to your destination.\n"
     ]
    }
   ],
   "source": [
    "distance=int(input(\"Enter the distance in kilometers: \"))\n",
    "if distance <2:\n",
    "    print(\"You can walk to your destination.\")\n",
    "elif distance >=2 and distance <10:\n",
    "    print(\"You can ride a bicycle to your destination\")\n",
    "else:\n",
    "    print(\"You can take a car or public transport to your destination.\")"
   ]
  },
  {
   "cell_type": "markdown",
   "id": "4af1aba1",
   "metadata": {},
   "source": [
    "Q7. Coffee Suggestion"
   ]
  },
  {
   "cell_type": "code",
   "execution_count": 6,
   "id": "dac3ddc2",
   "metadata": {},
   "outputs": [
    {
     "name": "stdout",
     "output_type": "stream",
     "text": [
      "You ordered a small coffee. Enjoy!\n"
     ]
    }
   ],
   "source": [
    "order_size = input(\"Enter the size of your coffee (small, medium, large): \").lower()\n",
    "if order_size == \"small\":\n",
    "    print(\"You ordered a small coffee. Enjoy!\")\n",
    "elif order_size == \"medium\":\n",
    "    print(\"You ordered a medium coffee. Enjoy!\")\n",
    "elif order_size == \"large\":\n",
    "    print(\"You ordered a large coffee. Enjoy!\")\n",
    "else:\n",
    "    print(\"No extra shot added to your coffee.\")"
   ]
  },
  {
   "cell_type": "markdown",
   "id": "fd9897ee",
   "metadata": {},
   "source": [
    "Q8. Password StrengTH Checker"
   ]
  },
  {
   "cell_type": "code",
   "execution_count": 7,
   "id": "6f15618d",
   "metadata": {},
   "outputs": [
    {
     "name": "stdout",
     "output_type": "stream",
     "text": [
      "Password is valid.\n"
     ]
    }
   ],
   "source": [
    "password = input(\"Enter your password: \")\n",
    "if len(password) < 8:\n",
    "    print(\"Password is too short. It must be at least 8 characters long.\")\n",
    "else:\n",
    "    print(\"Password is valid.\")"
   ]
  },
  {
   "cell_type": "markdown",
   "id": "e9991659",
   "metadata": {},
   "source": [
    "Q.9 Leap Year Checker"
   ]
  },
  {
   "cell_type": "code",
   "execution_count": 9,
   "id": "ac0e13a0",
   "metadata": {},
   "outputs": [
    {
     "name": "stdout",
     "output_type": "stream",
     "text": [
      "1999 is not a leap year.\n"
     ]
    }
   ],
   "source": [
    "year = int(input(\"Enter a year: \"))\n",
    "if (year % 4 ==0 and year % 100 !=0) or (year%400==0):\n",
    "    print(f\"{year} is a leap year.\")\n",
    "else:\n",
    "    print(f\"{year} is not a leap year.\")\n",
    "# Leap Year Checker"
   ]
  }
 ],
 "metadata": {
  "kernelspec": {
   "display_name": "base",
   "language": "python",
   "name": "python3"
  },
  "language_info": {
   "codemirror_mode": {
    "name": "ipython",
    "version": 3
   },
   "file_extension": ".py",
   "mimetype": "text/x-python",
   "name": "python",
   "nbconvert_exporter": "python",
   "pygments_lexer": "ipython3",
   "version": "3.13.5"
  }
 },
 "nbformat": 4,
 "nbformat_minor": 5
}
