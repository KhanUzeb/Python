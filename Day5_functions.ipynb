{
 "cells": [
  {
   "cell_type": "markdown",
   "id": "53bf162b",
   "metadata": {},
   "source": [
    "10 PROBLEMS IN PYTHON"
   ]
  },
  {
   "cell_type": "markdown",
   "id": "21118fe8",
   "metadata": {},
   "source": [
    "Q1. Basics Function Syntax"
   ]
  },
  {
   "cell_type": "code",
   "execution_count": 12,
   "id": "66a4f103",
   "metadata": {},
   "outputs": [
    {
     "data": {
      "text/plain": [
       "625"
      ]
     },
     "execution_count": 12,
     "metadata": {},
     "output_type": "execute_result"
    }
   ],
   "source": [
    "num=int(input(\"Enter a number: \"))\n",
    "def square(num):\n",
    "    \"\"\"Returns the square of a number.\"\"\"\n",
    "    return num * num\n",
    "square(num)"
   ]
  },
  {
   "cell_type": "markdown",
   "id": "dface30b",
   "metadata": {},
   "source": [
    "Q2. Function With Multiple Parameters"
   ]
  },
  {
   "cell_type": "code",
   "execution_count": 16,
   "id": "898cc058",
   "metadata": {},
   "outputs": [
    {
     "data": {
      "text/plain": [
       "10"
      ]
     },
     "execution_count": 16,
     "metadata": {},
     "output_type": "execute_result"
    }
   ],
   "source": [
    "a=int(input(\"Enter The First Number: \"))\n",
    "b=int(input(\"Enter The Second Number: \"))\n",
    "def add(a,b):\n",
    "    \"\"\"Returns the sum of two numbers.\"\"\"\n",
    "    return a + b\n",
    "add(a,b)"
   ]
  },
  {
   "cell_type": "markdown",
   "id": "1e184073",
   "metadata": {},
   "source": [
    "Q3.Polymorphism in Python: The ability of an object to take on many forms, often achieved through method overriding and operator overloading."
   ]
  },
  {
   "cell_type": "code",
   "execution_count": 25,
   "id": "297a7133",
   "metadata": {},
   "outputs": [
    {
     "data": {
      "text/plain": [
       "616"
      ]
     },
     "execution_count": 25,
     "metadata": {},
     "output_type": "execute_result"
    }
   ],
   "source": [
    "a=int(input(\"Enter The First Number: \"))\n",
    "b=int(input(\"Enter The Second Number: \"))\n",
    "def multiply(a, b):\n",
    "    \"\"\"Returns the product of two numbers.\"\"\"\n",
    "    return a * b\n",
    "multiply(a,b)"
   ]
  },
  {
   "cell_type": "markdown",
   "id": "8d0aa4c8",
   "metadata": {},
   "source": [
    "Q4. Function Returning Multiple Values"
   ]
  },
  {
   "cell_type": "code",
   "execution_count": 27,
   "id": "c7183e42",
   "metadata": {},
   "outputs": [
    {
     "name": "stdout",
     "output_type": "stream",
     "text": [
      "Area of the circle: 201.06192982974676 Circumference of the circle: 50.26548245743669\n"
     ]
    }
   ],
   "source": [
    "import math\n",
    "r=float(input(\"Enter the radius of the circle: \"))\n",
    "def circle_area(r):\n",
    "    \"\"\"Returns the area of a circle given its radius.\"\"\"\n",
    "    area= math.pi * r * r\n",
    "    circumference= 2 * math.pi * r\n",
    "    return area, circumference\n",
    "a,c=circle_area(r)\n",
    "print(f\"Area of the circle: {a}\", f\"Circumference of the circle: {c}\")"
   ]
  },
  {
   "cell_type": "markdown",
   "id": "9bffb407",
   "metadata": {},
   "source": [
    "Q5. DEfault Parameter value"
   ]
  },
  {
   "cell_type": "code",
   "execution_count": null,
   "id": "f697dc87",
   "metadata": {},
   "outputs": [
    {
     "name": "stdout",
     "output_type": "stream",
     "text": [
      "Hello, uzeb!\n"
     ]
    }
   ],
   "source": [
    "name=input(\"Enter your name: \")\n",
    "def greet(name=\"Guest\"):\n",
    "    if not name:\n",
    "        name = \"Guest\"\n",
    "    else:\n",
    "        name = name.strip()\n",
    "    \"\"\"Returns a greeting message.\"\"\"\n",
    "    return f\"Hello, {name}name!\"\n",
    "print(greet(name)) "
   ]
  },
  {
   "cell_type": "markdown",
   "id": "f61c82ce",
   "metadata": {},
   "source": [
    "Q6. LAMBDA FUNCTION:\n",
    "FUNCTION WITHOUT A NAME"
   ]
  },
  {
   "cell_type": "code",
   "execution_count": 3,
   "id": "5fe2f4ab",
   "metadata": {},
   "outputs": [
    {
     "name": "stdout",
     "output_type": "stream",
     "text": [
      "The cube of 5 is 125\n"
     ]
    }
   ],
   "source": [
    "x=int(input(\"Enter a number: \"))\n",
    "cube=lambda x: x ** 3\n",
    "print(f\"The cube of {x} is {cube(x)}\")"
   ]
  },
  {
   "cell_type": "markdown",
   "id": "6b8ebdbd",
   "metadata": {},
   "source": [
    "Q7. FUNCTION WITH ARGS"
   ]
  },
  {
   "cell_type": "code",
   "execution_count": 1,
   "id": "2890000a",
   "metadata": {},
   "outputs": [
    {
     "name": "stdout",
     "output_type": "stream",
     "text": [
      "15\n"
     ]
    }
   ],
   "source": [
    "def sum_all(*args):\n",
    "    \"\"\"Returns the sum of all arguments.\"\"\"\n",
    "    return sum(args)\n",
    "print(sum_all(1,2,3,4,5))"
   ]
  },
  {
   "cell_type": "markdown",
   "id": "df7f8c43",
   "metadata": {},
   "source": [
    "Q8 FUNCTION WITH **kwargs"
   ]
  },
  {
   "cell_type": "code",
   "execution_count": null,
   "id": "1d5baf2e",
   "metadata": {},
   "outputs": [
    {
     "name": "stdout",
     "output_type": "stream",
     "text": [
      "name = Alice\n",
      "age = 30\n",
      "city = New York\n"
     ]
    }
   ],
   "source": [
    "def print_kwargs(**kwargs):\n",
    "    \"\"\"Prints all keyword arguments.\"\"\"\n",
    "    for key, value in kwargs.items():\n",
    "        print(f\"{key} = {value}\")# print the key-value pair\n",
    "print_kwargs(name=\"Alice\", age=30, city=\"New York\")"
   ]
  },
  {
   "cell_type": "markdown",
   "id": "5ea439b3",
   "metadata": {},
   "source": [
    "Q9. GENERATOR FUNCTION WITH YIELD"
   ]
  },
  {
   "cell_type": "code",
   "execution_count": 5,
   "id": "b615f146",
   "metadata": {},
   "outputs": [
    {
     "name": "stdout",
     "output_type": "stream",
     "text": [
      "0\n",
      "2\n",
      "4\n",
      "6\n",
      "8\n"
     ]
    }
   ],
   "source": [
    "limit = int(input(\"Enter the limit for even numbers: \"))\n",
    "def even_generator(limit):\n",
    "    \"\"\"Generator function that yields even numbers up to a limit.\"\"\"\n",
    "    for num in range(0, limit + 1, 2):\n",
    "        yield num\n",
    "for even in even_generator(limit):\n",
    "    print(even)"
   ]
  },
  {
   "cell_type": "markdown",
   "id": "e02157a6",
   "metadata": {},
   "source": [
    "Q10.RECURSIVE FUNCTION"
   ]
  },
  {
   "cell_type": "code",
   "execution_count": 19,
   "id": "df54b9d5",
   "metadata": {},
   "outputs": [
    {
     "name": "stdout",
     "output_type": "stream",
     "text": [
      "39916800\n"
     ]
    }
   ],
   "source": [
    "n=int(input(\"Enter a number to calculate its factorial: \"))\n",
    "def factorial(n):\n",
    "    \"\"\"Returns the factorial of a number.\"\"\"\n",
    "    if n < 0:\n",
    "        return \"Factorial is not defined for negative numbers\"\n",
    "    elif n==0:\n",
    "        return 1\n",
    "    else:\n",
    "        return n * factorial(n - 1)\n",
    "print(factorial(n))"
   ]
  }
 ],
 "metadata": {
  "kernelspec": {
   "display_name": "base",
   "language": "python",
   "name": "python3"
  },
  "language_info": {
   "codemirror_mode": {
    "name": "ipython",
    "version": 3
   },
   "file_extension": ".py",
   "mimetype": "text/x-python",
   "name": "python",
   "nbconvert_exporter": "python",
   "pygments_lexer": "ipython3",
   "version": "3.13.5"
  }
 },
 "nbformat": 4,
 "nbformat_minor": 5
}
