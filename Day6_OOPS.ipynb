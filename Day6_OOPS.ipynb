{
 "cells": [
  {
   "cell_type": "markdown",
   "id": "644d0557",
   "metadata": {},
   "source": [
    "OOPS IN PYTHON"
   ]
  },
  {
   "cell_type": "markdown",
   "id": "2197f174",
   "metadata": {},
   "source": [
    "BASIC CLASS AND OBJECT"
   ]
  },
  {
   "cell_type": "code",
   "execution_count": null,
   "id": "bec064cf",
   "metadata": {},
   "outputs": [
    {
     "name": "stdout",
     "output_type": "stream",
     "text": [
      "Audi\n",
      "A4\n",
      "Honda\n",
      "Civic\n"
     ]
    }
   ],
   "source": [
    "# defining a class\n",
    "class car:\n",
    "    def __init__(self,brand,model):\n",
    "        self.brand=brand\n",
    "        self.model=model\n",
    "\n",
    "# creating an object\n",
    "my_car=car(\"Audi\", \"A4\")\n",
    "print(my_car.brand)\n",
    "print(my_car.model)\n",
    "\n",
    "# creating another object\n",
    "my_new_car=car(\"Honda\", \"Civic\")\n",
    "print(my_new_car.brand)\n",
    "print(my_new_car.model)"
   ]
  },
  {
   "cell_type": "markdown",
   "id": "4d304b6d",
   "metadata": {},
   "source": [
    "Class Method And Self"
   ]
  },
  {
   "cell_type": "code",
   "execution_count": 10,
   "id": "50a51cc9",
   "metadata": {},
   "outputs": [
    {
     "name": "stdout",
     "output_type": "stream",
     "text": [
      "Audi A4\n",
      "Honda Civic\n"
     ]
    }
   ],
   "source": [
    "# defining a class\n",
    "class car:\n",
    "    def __init__(self,brand,model):\n",
    "        self.brand=brand\n",
    "        self.model=model\n",
    "    # creating a method\n",
    "    def full_name(self):\n",
    "        return f\"{self.brand} {self.model}\"\n",
    "# creating an object\n",
    "my_car=car(\"Audi\", \"A4\")\n",
    "#print(my_car.brand)\n",
    "#print(my_car.model)\n",
    "print(my_car.full_name())\n",
    "\n",
    "# creating another object\n",
    "my_new_car=car(\"Honda\", \"Civic\")\n",
    "#print(my_new_car.brand)\n",
    "#print(my_new_car.model)\n",
    "print(my_new_car.full_name())"
   ]
  },
  {
   "cell_type": "markdown",
   "id": "f20b74ce",
   "metadata": {},
   "source": [
    "Inheritance: Inheritance in Python is a way for a new class to inherit properties and behaviors (attributes and methods) from an existing class, promoting code reusability."
   ]
  },
  {
   "cell_type": "code",
   "execution_count": 13,
   "id": "2ec2ee2c",
   "metadata": {},
   "outputs": [
    {
     "name": "stdout",
     "output_type": "stream",
     "text": [
      "Tesla Model 3\n",
      "75kwh\n"
     ]
    }
   ],
   "source": [
    "# defining a class\n",
    "class car:\n",
    "    def __init__(self,brand,model):\n",
    "        self.brand=brand\n",
    "        self.model=model\n",
    "    # creating a method\n",
    "    def full_name(self):\n",
    "        return f\"{self.brand} {self.model}\"\n",
    "# creating an object()    \n",
    "class EV(car):\n",
    "    def __init__(self,brand,model,battery_size):\n",
    "        super().__init__(brand,model)\n",
    "        self.battery_size=battery_size\n",
    "\n",
    "my_tesla=EV(\"Tesla\", \"Model 3\", \"75kwh\")\n",
    "print(my_tesla.full_name())\n",
    "print(my_tesla.battery_size)"
   ]
  },
  {
   "cell_type": "markdown",
   "id": "1b51dc06",
   "metadata": {},
   "source": [
    "Encapsulation: encapsulation in Python is the bundling of data and the methods that operate on that data within a single unit (a class), and restricting direct access to some of an object's components, typically done by convention (using leading underscores) rather than strict access modifiers."
   ]
  },
  {
   "cell_type": "code",
   "execution_count": null,
   "id": "adf8172e",
   "metadata": {},
   "outputs": [
    {
     "name": "stdout",
     "output_type": "stream",
     "text": [
      "Tesla!\n"
     ]
    }
   ],
   "source": [
    "class car:\n",
    "    def __init__(self,brand,model):\n",
    "        #encapsulation is done to hide the data\n",
    "        self.__brand=brand\n",
    "        self.model=model\n",
    "        \n",
    "    def get_brand(self):\n",
    "        return self.__brand + \"!\"\n",
    "    # creating a method\n",
    "    def full_name(self):\n",
    "        return f\"{self.__brand} {self.model}\"\n",
    "# creating an object()    \n",
    "class EV(car):\n",
    "    def __init__(self,brand,model,battery_size):\n",
    "        super().__init__(brand,model)\n",
    "        self.battery_size=battery_size\n",
    "\n",
    "my_tesla=EV(\"Tesla\", \"Model 3\", \"75kwh\")\n",
    "#print(my_tesla.__brand)\n",
    "print(my_tesla.get_brand())"
   ]
  },
  {
   "cell_type": "markdown",
   "id": "aefae0a0",
   "metadata": {},
   "source": [
    "Polymorphism : Polymorphism in Python is the ability of different objects to respond to the same method call in their own unique way, or for a single interface (like an operator or function) to work with various data types"
   ]
  },
  {
   "cell_type": "code",
   "execution_count": null,
   "id": "4c6b1053",
   "metadata": {},
   "outputs": [
    {
     "name": "stdout",
     "output_type": "stream",
     "text": [
      "Electric\n",
      "Petrol or Diesel\n"
     ]
    }
   ],
   "source": [
    "class car:\n",
    "    def __init__(self,brand,model):\n",
    "        #encapsulation is done to hide the data\n",
    "        self.__brand=brand\n",
    "        self.model=model\n",
    "        \n",
    "    def get_brand(self):\n",
    "        return self.__brand + \"!\"\n",
    "    # creating a method\n",
    "    def full_name(self):\n",
    "        return f\"{self.__brand} {self.model}\"\n",
    "    #polymorphism\n",
    "    def fuel_type(self):\n",
    "        return \"Petrol or Diesel\"\n",
    "# creating an object()    \n",
    "class EV(car):\n",
    "    def __init__(self,brand,model,battery_size):\n",
    "        super().__init__(brand,model)\n",
    "        self.battery_size=battery_size\n",
    "    #polymorphism\n",
    "    def fuel_type(self):\n",
    "        return \"Electric\"\n",
    "\n",
    "my_tesla=EV(\"Tesla\", \"Model 3\", \"75kwh\")\n",
    "#print(my_tesla.__brand)\n",
    "print(my_tesla.fuel_type())\n",
    "\n",
    "safari=car(\"Tata\", \"Safari\")\n",
    "print(safari.fuel_type())"
   ]
  },
  {
   "cell_type": "markdown",
   "id": "43ee103d",
   "metadata": {},
   "source": [
    "Class Variable"
   ]
  },
  {
   "cell_type": "code",
   "execution_count": null,
   "id": "43ad4d39",
   "metadata": {},
   "outputs": [
    {
     "name": "stdout",
     "output_type": "stream",
     "text": [
      "2\n"
     ]
    }
   ],
   "source": [
    "class car:\n",
    "    total_car=0\n",
    "    def __init__(self,brand,model):\n",
    "        #encapsulation is done to hide the data\n",
    "        self.__brand=brand\n",
    "        self.model=model\n",
    "        car.total_car+=1\n",
    "    #class variable \n",
    "    def get_brand(self):\n",
    "        return self.__brand + \"!\"\n",
    "    # creating a method\n",
    "    def full_name(self):\n",
    "        return f\"{self.__brand} {self.model}\"\n",
    "    #polymorphism\n",
    "    def fuel_type(self):\n",
    "        return \"Petrol or Diesel\"\n",
    "# creating an object()    \n",
    "class EV(car):\n",
    "    def __init__(self,brand,model,battery_size):\n",
    "        super().__init__(brand,model)\n",
    "        self.battery_size=battery_size\n",
    "    #polymorphism\n",
    "    def fuel_type(self):\n",
    "        return \"Electric\"\n",
    "\n",
    "#my_tesla=EV(\"Tesla\", \"Model 3\", \"75kwh\")\n",
    "#print(my_tesla.__brand)\n",
    "#print(my_tesla.fuel_type())\n",
    "\n",
    "safari=car(\"Tata\", \"Safari\")\n",
    "#print(safari.fuel_type())\n",
    "#print(safari.total_car)\n",
    "test=car(\"test\", \"test\")\n",
    "print(test.total_car)"
   ]
  },
  {
   "cell_type": "markdown",
   "id": "5a1bacaf",
   "metadata": {},
   "source": [
    "Static methods : A static method in Python is a method that belongs to a class but doesn't operate on instances of that class (it doesn't receive self) and cannot modify the class's state (it also doesn't receive class), often used for utility functions logically grouped with the class."
   ]
  },
  {
   "cell_type": "code",
   "execution_count": null,
   "id": "05d2246c",
   "metadata": {},
   "outputs": [
    {
     "name": "stdout",
     "output_type": "stream",
     "text": [
      "Cars are used for transportation\n"
     ]
    }
   ],
   "source": [
    "class car:\n",
    "    total_car=0\n",
    "    def __init__(self,brand,model):\n",
    "        #encapsulation is done to hide the data\n",
    "        self.__brand=brand\n",
    "        self.model=model\n",
    "        car.total_car+=1\n",
    "    #class variable \n",
    "    def get_brand(self):\n",
    "        return self.__brand + \"!\"\n",
    "    # creating a method\n",
    "    def full_name(self):\n",
    "        return f\"{self.__brand} {self.model}\"\n",
    "    #polymorphism\n",
    "    def fuel_type(self):\n",
    "        return \"Petrol or Diesel\"\n",
    "    #static method\n",
    "    @staticmethod\n",
    "    def general_description():\n",
    "        return \"Cars are used for transportation\"\n",
    "# creating an object()    \n",
    "class EV(car):\n",
    "    def __init__(self,brand,model,battery_size):\n",
    "        super().__init__(brand,model)\n",
    "        self.battery_size=battery_size\n",
    "    #polymorphism\n",
    "    def fuel_type(self):\n",
    "        return \"Electric\"\n",
    "\n",
    "#my_tesla=EV(\"Tesla\", \"Model 3\", \"75kwh\")\n",
    "#print(my_tesla.__brand)\n",
    "#print(my_tesla.fuel_type())\n",
    "\n",
    "safari=car(\"Tata\", \"Safari\")\n",
    "#print(safari.fuel_type())\n",
    "#print(safari.total_car)\n",
    "print(safari.general_description())\n",
    "#test=car(\"test\", \"test\")\n",
    "#print(test.total_car)"
   ]
  },
  {
   "cell_type": "markdown",
   "id": "96dec16d",
   "metadata": {},
   "source": [
    "Property Decorators : A decorator in Python is a function that takes another function as an argument, extends or modifies its behavior without changing its source code, and returns the modified function."
   ]
  },
  {
   "cell_type": "code",
   "execution_count": 1,
   "id": "2ffc347c",
   "metadata": {},
   "outputs": [
    {
     "name": "stdout",
     "output_type": "stream",
     "text": [
      "Safari\n"
     ]
    }
   ],
   "source": [
    "class car:\n",
    "    total_car=0\n",
    "    def __init__(self,brand,model):\n",
    "        #encapsulation is done to hide the data\n",
    "        self.__brand=brand\n",
    "        self.__model=model\n",
    "        car.total_car+=1\n",
    "    #class variable \n",
    "    def get_brand(self):\n",
    "        return self.__brand + \"!\"\n",
    "    # creating a method\n",
    "    def full_name(self):\n",
    "        return f\"{self.__brand} {self.__model}\"\n",
    "    #polymorphism\n",
    "    def fuel_type(self):\n",
    "        return \"Petrol or Diesel\"\n",
    "    #static method\n",
    "    @staticmethod\n",
    "    def general_description():\n",
    "        return \"Cars are used for transportation\"\n",
    "    #property decorator\n",
    "    @property\n",
    "    def model(self):\n",
    "        return self.__model\n",
    "# creating an object()    \n",
    "class EV(car):\n",
    "    def __init__(self,brand,model,battery_size):\n",
    "        super().__init__(brand,model)\n",
    "        self.battery_size=battery_size\n",
    "    #polymorphism\n",
    "    def fuel_type(self):\n",
    "        return \"Electric\"\n",
    "\n",
    "#my_tesla=EV(\"Tesla\", \"Model 3\", \"75kwh\")\n",
    "#print(my_tesla.__brand)\n",
    "#print(my_tesla.fuel_type())\n",
    "\n",
    "safari=car(\"Tata\", \"Safari\")\n",
    "safari.__model=\"New Safari\"\n",
    "print(safari.model)\n",
    "#print(safari.fuel_type())\n",
    "#print(safari.total_car)\n",
    "#print(safari.general_description())\n",
    "#test=car(\"test\", \"test\")\n",
    "#print(test.total_car)"
   ]
  },
  {
   "cell_type": "markdown",
   "id": "512546ca",
   "metadata": {},
   "source": [
    "Class Inheritance And Isinheritance()"
   ]
  },
  {
   "cell_type": "code",
   "execution_count": 5,
   "id": "435faccc",
   "metadata": {},
   "outputs": [
    {
     "data": {
      "text/plain": [
       "True"
      ]
     },
     "execution_count": 5,
     "metadata": {},
     "output_type": "execute_result"
    }
   ],
   "source": [
    "class car:\n",
    "    total_car=0\n",
    "    def __init__(self,brand,model):\n",
    "        #encapsulation is done to hide the data\n",
    "        self.__brand=brand\n",
    "        self.__model=model\n",
    "        car.total_car+=1\n",
    "    #class variable \n",
    "    def get_brand(self):\n",
    "        return self.__brand + \"!\"\n",
    "    # creating a method\n",
    "    def full_name(self):\n",
    "        return f\"{self.__brand} {self.__model}\"\n",
    "    #polymorphism\n",
    "    def fuel_type(self):\n",
    "        return \"Petrol or Diesel\"\n",
    "    #static method\n",
    "    @staticmethod\n",
    "    def general_description():\n",
    "        return \"Cars are used for transportation\"\n",
    "    #property decorator\n",
    "    @property\n",
    "    def model(self):\n",
    "        return self.__model\n",
    "# creating an object()    \n",
    "class EV(car):\n",
    "    def __init__(self,brand,model,battery_size):\n",
    "        super().__init__(brand,model)\n",
    "        self.battery_size=battery_size\n",
    "    #polymorphism\n",
    "    def fuel_type(self):\n",
    "        return \"Electric\"\n",
    "\n",
    "my_tesla=EV(\"Tesla\", \"Model 3\", \"75kwh\")\n",
    "isinstance(my_tesla,EV)\n",
    "#print(my_tesla.brand)\n",
    "#print(my_tesla.fuel_type())\n",
    "\n",
    "#safari=car(\"Tata\", \"Safari\")\n",
    "#safari.__model=\"New Safari\"\n",
    "#print(safari.model)\n",
    "#print(safari.fuel_type())\n",
    "#print(safari.total_car)\n",
    "#print(safari.general_description())\n",
    "#test=car(\"test\", \"test\")\n",
    "#print(test.total_car)"
   ]
  },
  {
   "cell_type": "markdown",
   "id": "225154e4",
   "metadata": {},
   "source": [
    "MULTIPLE INHERITANCE"
   ]
  },
  {
   "cell_type": "code",
   "execution_count": 9,
   "id": "a49ca368",
   "metadata": {},
   "outputs": [
    {
     "name": "stdout",
     "output_type": "stream",
     "text": [
      "Battery info\n",
      "Engine info\n",
      "Tesla Model 3\n",
      "Model 3\n"
     ]
    }
   ],
   "source": [
    "class car:\n",
    "    total_car = 0\n",
    "\n",
    "    def __init__(self, brand, model):\n",
    "        # encapsulation is done to hide the data\n",
    "        self.__brand = brand\n",
    "        self.__model = model\n",
    "        car.total_car += 1\n",
    "\n",
    "    # class variable\n",
    "    def get_brand(self):\n",
    "        return self.__brand + \"!\"\n",
    "\n",
    "    # creating a method\n",
    "    def full_name(self):\n",
    "        return f\"{self.__brand} {self.__model}\"\n",
    "\n",
    "    # polymorphism\n",
    "    def fuel_type(self):\n",
    "        return \"Petrol or Diesel\"\n",
    "\n",
    "    # static method\n",
    "    @staticmethod\n",
    "    def general_description():\n",
    "        return \"Cars are used for transportation\"\n",
    "\n",
    "    # property decorator\n",
    "    @property\n",
    "    def model(self):\n",
    "        return self.__model\n",
    "\n",
    "# creating an object()\n",
    "class EV(car):\n",
    "    def __init__(self, brand, model, battery_size):\n",
    "        super().__init__(brand, model)\n",
    "        self.battery_size = battery_size\n",
    "\n",
    "    # polymorphism\n",
    "    def fuel_type(self):\n",
    "        return \"Electric\"\n",
    "\n",
    "class Battery:\n",
    "    def battery_info(self):\n",
    "        return \"Battery info\"\n",
    "\n",
    "class Engine:\n",
    "    def engine_info(self):\n",
    "        return \"Engine info\"\n",
    "\n",
    "class EV2(car, Battery, Engine):  # Inheriting from car, Battery, and Engine\n",
    "    def __init__(self, brand, model, battery_size):\n",
    "        super().__init__(brand, model)  # Initialize the car part\n",
    "        self.battery_size = battery_size # Specific to EV2, if needed\n",
    "\n",
    "my_new_tesla = EV2(\"Tesla\", \"Model 3\", \"75kwh\")\n",
    "print(my_new_tesla.battery_info())\n",
    "print(my_new_tesla.engine_info())\n",
    "print(my_new_tesla.full_name()) # You can now also access car methods\n",
    "print(my_new_tesla.model)"
   ]
  },
  {
   "cell_type": "markdown",
   "id": "f15d4b4c",
   "metadata": {},
   "source": [
    "PYTHON DONE"
   ]
  }
 ],
 "metadata": {
  "kernelspec": {
   "display_name": "base",
   "language": "python",
   "name": "python3"
  },
  "language_info": {
   "codemirror_mode": {
    "name": "ipython",
    "version": 3
   },
   "file_extension": ".py",
   "mimetype": "text/x-python",
   "name": "python",
   "nbconvert_exporter": "python",
   "pygments_lexer": "ipython3",
   "version": "3.13.5"
  }
 },
 "nbformat": 4,
 "nbformat_minor": 5
}
