{
 "cells": [
  {
   "cell_type": "markdown",
   "id": "71288c3f",
   "metadata": {},
   "source": [
    "# STRINGS IN PYTHON # <font size=\"20\">"
   ]
  },
  {
   "cell_type": "markdown",
   "id": "87fb34c7",
   "metadata": {},
   "source": [
    "\" \" this is one of strings\n",
    "'' this is also one of strings"
   ]
  },
  {
   "cell_type": "code",
   "execution_count": 1,
   "id": "0013f0e9",
   "metadata": {},
   "outputs": [
    {
     "name": "stdout",
     "output_type": "stream",
     "text": [
      "uzeb\n"
     ]
    }
   ],
   "source": [
    "Name = \"uzeb\"\n",
    "print(Name)"
   ]
  },
  {
   "cell_type": "code",
   "execution_count": 2,
   "id": "1da4c77e",
   "metadata": {},
   "outputs": [
    {
     "name": "stdout",
     "output_type": "stream",
     "text": [
      "u\n"
     ]
    }
   ],
   "source": [
    "first_char = Name[0]\n",
    "print(first_char)"
   ]
  },
  {
   "cell_type": "markdown",
   "id": "16eb0082",
   "metadata": {},
   "source": [
    "slicing is done using [:] first number till last number"
   ]
  },
  {
   "cell_type": "code",
   "execution_count": 3,
   "id": "e1bb51e0",
   "metadata": {},
   "outputs": [
    {
     "name": "stdout",
     "output_type": "stream",
     "text": [
      "uzeb\n"
     ]
    }
   ],
   "source": [
    "Name = \"uzeb khan\"\n",
    "slice_name = Name[0:4]\n",
    "print(slice_name)"
   ]
  },
  {
   "cell_type": "code",
   "execution_count": 19,
   "id": "b0e84a1b",
   "metadata": {},
   "outputs": [
    {
     "name": "stdout",
     "output_type": "stream",
     "text": [
      "0\n"
     ]
    }
   ],
   "source": [
    "num_list=\"1234567890\"\n",
    "slice_num = num_list[-1:]\n",
    "print(slice_num)"
   ]
  },
  {
   "cell_type": "markdown",
   "id": "5f47ab93",
   "metadata": {},
   "source": [
    "DID All PnC of slicing above is only one ex"
   ]
  },
  {
   "cell_type": "markdown",
   "id": "a8f963ad",
   "metadata": {},
   "source": [
    "string is unicode but python also supports special character "
   ]
  },
  {
   "cell_type": "code",
   "execution_count": 21,
   "id": "c45021ef",
   "metadata": {},
   "outputs": [
    {
     "name": "stdout",
     "output_type": "stream",
     "text": [
      "uzeb khan\n",
      "UZEB KHAN\n"
     ]
    }
   ],
   "source": [
    "Name\n",
    "print(Name.lower())  # Convert to lowercase\n",
    "print(Name.upper())  # Convert to uppercase"
   ]
  },
  {
   "cell_type": "code",
   "execution_count": 22,
   "id": "e7152ee7",
   "metadata": {},
   "outputs": [
    {
     "name": "stdout",
     "output_type": "stream",
     "text": [
      "   uzeb khan   \n",
      "uzeb khan\n"
     ]
    }
   ],
   "source": [
    "name = \"   uzeb khan   \"\n",
    "print(name)\n",
    "print(name.strip())  # Remove leading and trailing spaces   "
   ]
  },
  {
   "cell_type": "code",
   "execution_count": 23,
   "id": "a5cc96b3",
   "metadata": {},
   "outputs": [
    {
     "name": "stdout",
     "output_type": "stream",
     "text": [
      "uzeb sir\n"
     ]
    }
   ],
   "source": [
    "name = \"uzeb khan\"\n",
    "print(name.replace(\"khan\",\"sir\"))  # Replace \"khan\" with \"sir\""
   ]
  },
  {
   "cell_type": "code",
   "execution_count": 25,
   "id": "775c43ba",
   "metadata": {},
   "outputs": [
    {
     "name": "stdout",
     "output_type": "stream",
     "text": [
      "['Lemon,', 'Mango,', 'Pineapple,Chai']\n",
      "['Lemon', ' Mango', ' Pineapple', 'Chai']\n"
     ]
    }
   ],
   "source": [
    "Chai=\"Lemon, Mango, Pineapple,Chai\"\n",
    "print(Chai.split())  # Split the string into a list using default whitespace delimiter\n",
    "print(Chai.split(\",\"))  # Split the string into a list using comma as the delimiter"
   ]
  },
  {
   "cell_type": "code",
   "execution_count": 27,
   "id": "80e9f5f9",
   "metadata": {},
   "outputs": [
    {
     "name": "stdout",
     "output_type": "stream",
     "text": [
      "3\n"
     ]
    }
   ],
   "source": [
    "name = \"uzeb khan\"\n",
    "print(name.find(\"b\"))  # Find the index of the first occurrence of \"i\""
   ]
  },
  {
   "cell_type": "code",
   "execution_count": 28,
   "id": "2c18b62e",
   "metadata": {},
   "outputs": [
    {
     "name": "stdout",
     "output_type": "stream",
     "text": [
      "4\n"
     ]
    }
   ],
   "source": [
    "Name = \"uzeb khan khan khan khan\"\n",
    "print(Name.count(\"khan\"))  # Count the occurrences of \"khan\" in the string"
   ]
  },
  {
   "cell_type": "code",
   "execution_count": 32,
   "id": "1d59e23d",
   "metadata": {},
   "outputs": [
    {
     "name": "stdout",
     "output_type": "stream",
     "text": [
      "I want to order 12 plates of Chocolate Chip Cookie cookies\n"
     ]
    }
   ],
   "source": [
    "cookie_type = \"Chocolate Chip Cookie\"\n",
    "quantity = 12\n",
    "print(\"I want to order {} plates of {} cookies\".format(quantity, cookie_type))"
   ]
  },
  {
   "cell_type": "markdown",
   "id": "90bf748d",
   "metadata": {},
   "source": [
    "This Is Called Order Formatting\n",
    "we converted strings to list"
   ]
  },
  {
   "cell_type": "code",
   "execution_count": null,
   "id": "115c0c28",
   "metadata": {},
   "outputs": [
    {
     "name": "stdout",
     "output_type": "stream",
     "text": [
      "Chocolate Chip CookieOatmeal RaisinCookieSugarCookie\n",
      "Chocolate Chip Cookie Oatmeal RaisinCookie SugarCookie\n"
     ]
    }
   ],
   "source": [
    "cookies_variety = [\"Chocolate Chip Cookie\", \"Oatmeal RaisinCookie\", \"SugarCookie\"]\n",
    "print(\"\".join(cookies_variety))  # Join the list into a string with no separator\n",
    "print(\" \".join(cookies_variety))  # Join the list into a string with \" spaces \" as the separator"
   ]
  },
  {
   "cell_type": "code",
   "execution_count": 36,
   "id": "543cd594",
   "metadata": {},
   "outputs": [
    {
     "name": "stdout",
     "output_type": "stream",
     "text": [
      "21\n"
     ]
    }
   ],
   "source": [
    "cookie_type = \"Chocolate Chip Cookie\"\n",
    "print(len(cookie_type))  # Get the length of the string"
   ]
  },
  {
   "cell_type": "code",
   "execution_count": 37,
   "id": "51814586",
   "metadata": {},
   "outputs": [
    {
     "name": "stdout",
     "output_type": "stream",
     "text": [
      "C\n",
      "h\n",
      "o\n",
      "c\n",
      "o\n",
      "l\n",
      "a\n",
      "t\n",
      "e\n",
      " \n",
      "C\n",
      "h\n",
      "i\n",
      "p\n",
      " \n",
      "C\n",
      "o\n",
      "o\n",
      "k\n",
      "i\n",
      "e\n"
     ]
    }
   ],
   "source": [
    "for letter in cookie_type:\n",
    "    print(letter) # Print each letter in the string with a space in between\n"
   ]
  },
  {
   "cell_type": "code",
   "execution_count": 39,
   "id": "b593abdc",
   "metadata": {},
   "outputs": [
    {
     "name": "stdout",
     "output_type": "stream",
     "text": [
      "A boy,\"said day is quite good\" \n"
     ]
    }
   ],
   "source": [
    "word = \"A boy,\\\"said day is quite good\\\" \"\n",
    "print(word)"
   ]
  },
  {
   "cell_type": "code",
   "execution_count": null,
   "id": "a4aab370",
   "metadata": {},
   "outputs": [],
   "source": [
    "name = r\"uzeb\\nkhan\"\n",
    "print(name)  # Raw string, backslashes are treated literally"
   ]
  },
  {
   "cell_type": "code",
   "execution_count": 40,
   "id": "4fe2cf26",
   "metadata": {},
   "outputs": [
    {
     "name": "stdout",
     "output_type": "stream",
     "text": [
      "c:\\uzeb\\khan\n"
     ]
    }
   ],
   "source": [
    "name=r\"c:\\uzeb\\khan\"\n",
    "print(name)  # Raw string, backslashes are treated literally"
   ]
  },
  {
   "cell_type": "markdown",
   "id": "acc6697c",
   "metadata": {},
   "source": [
    "can ask string containing questions to python"
   ]
  },
  {
   "cell_type": "code",
   "execution_count": 41,
   "id": "1a673577",
   "metadata": {},
   "outputs": [
    {
     "name": "stdout",
     "output_type": "stream",
     "text": [
      "True\n"
     ]
    }
   ],
   "source": [
    "chai=\"lemon chai\"\n",
    "print(\"lemon\"in chai)  # Check if \"lemon\" is in the string"
   ]
  }
 ],
 "metadata": {
  "kernelspec": {
   "display_name": "base",
   "language": "python",
   "name": "python3"
  },
  "language_info": {
   "codemirror_mode": {
    "name": "ipython",
    "version": 3
   },
   "file_extension": ".py",
   "mimetype": "text/x-python",
   "name": "python",
   "nbconvert_exporter": "python",
   "pygments_lexer": "ipython3",
   "version": "3.13.5"
  }
 },
 "nbformat": 4,
 "nbformat_minor": 5
}
