{
 "cells": [
  {
   "cell_type": "markdown",
   "id": "3f436e55",
   "metadata": {},
   "source": [
    "Dictionaries in Python\n",
    "in which it is like this {\"key\":\"value\"}"
   ]
  },
  {
   "cell_type": "code",
   "execution_count": 1,
   "id": "d048ec4a",
   "metadata": {},
   "outputs": [
    {
     "name": "stdout",
     "output_type": "stream",
     "text": [
      "{'Coke': 1.5, 'Pepsi': 1.4, 'Sprite': 1.3}\n"
     ]
    }
   ],
   "source": [
    "soda_types={'Coke': 1.5, 'Pepsi': 1.4, 'Sprite': 1.3} # Dictionary with soda types and their prices\n",
    "print(soda_types)"
   ]
  },
  {
   "cell_type": "code",
   "execution_count": 4,
   "id": "988b1cf5",
   "metadata": {},
   "outputs": [
    {
     "name": "stdout",
     "output_type": "stream",
     "text": [
      "1.5\n"
     ]
    }
   ],
   "source": [
    "print(soda_types['Coke']) # Accessing the price of Coke using the correct key 'Coke'"
   ]
  },
  {
   "cell_type": "code",
   "execution_count": 5,
   "id": "ebfa3e72",
   "metadata": {},
   "outputs": [
    {
     "data": {
      "text/plain": [
       "1.5"
      ]
     },
     "execution_count": 5,
     "metadata": {},
     "output_type": "execute_result"
    }
   ],
   "source": [
    "soda_types.get('Coke') # Using the get method to access the price of Coke"
   ]
  },
  {
   "cell_type": "code",
   "execution_count": 6,
   "id": "ef2ab8af",
   "metadata": {},
   "outputs": [
    {
     "name": "stdout",
     "output_type": "stream",
     "text": [
      "{'Coke': 1.8, 'Pepsi': 1.4, 'Sprite': 1.3}\n"
     ]
    }
   ],
   "source": [
    "soda_types['Coke'] = 1.8 # Updating the price of Coke\n",
    "print(soda_types)"
   ]
  },
  {
   "cell_type": "code",
   "execution_count": 8,
   "id": "1736ff61",
   "metadata": {},
   "outputs": [
    {
     "name": "stdout",
     "output_type": "stream",
     "text": [
      "Coke\n",
      "Pepsi\n",
      "Sprite\n"
     ]
    }
   ],
   "source": [
    "for i in soda_types:\n",
    "    print(i)# Iterating through the keys of the dictionary"
   ]
  },
  {
   "cell_type": "code",
   "execution_count": 9,
   "id": "99cdd036",
   "metadata": {},
   "outputs": [
    {
     "name": "stdout",
     "output_type": "stream",
     "text": [
      "Coke 1.8\n",
      "Pepsi 1.4\n",
      "Sprite 1.3\n"
     ]
    }
   ],
   "source": [
    "for i in soda_types:\n",
    "    print(i, soda_types[i]) # Iterating through the dictionary to print each soda type and its price"
   ]
  },
  {
   "cell_type": "markdown",
   "id": "94db215f",
   "metadata": {},
   "source": [
    "items() method used to get both keys and values"
   ]
  },
  {
   "cell_type": "code",
   "execution_count": 10,
   "id": "1ff19f2f",
   "metadata": {},
   "outputs": [
    {
     "name": "stdout",
     "output_type": "stream",
     "text": [
      "Coke 1.8\n",
      "Pepsi 1.4\n",
      "Sprite 1.3\n"
     ]
    }
   ],
   "source": [
    "for key, value in soda_types.items():\n",
    "    print(key, value) # Using items() to iterate through both keys and values of the dictionary"
   ]
  },
  {
   "cell_type": "code",
   "execution_count": 11,
   "id": "b463405e",
   "metadata": {},
   "outputs": [
    {
     "name": "stdout",
     "output_type": "stream",
     "text": [
      "3\n"
     ]
    }
   ],
   "source": [
    "print(len(soda_types)) # Getting the number of items in the dictionary"
   ]
  },
  {
   "cell_type": "code",
   "execution_count": 12,
   "id": "288ba8db",
   "metadata": {},
   "outputs": [
    {
     "name": "stdout",
     "output_type": "stream",
     "text": [
      "Coke is available\n"
     ]
    }
   ],
   "source": [
    "if 'Coke' in soda_types:\n",
    "    print(\"Coke is available\") # Checking if 'Coke' is a key in the dictionary"
   ]
  },
  {
   "cell_type": "code",
   "execution_count": 13,
   "id": "71b0bad1",
   "metadata": {},
   "outputs": [
    {
     "name": "stdout",
     "output_type": "stream",
     "text": [
      "{'Coke': 1.8, 'Pepsi': 1.4, 'Sprite': 1.3, 'Fanta': 1.2}\n"
     ]
    }
   ],
   "source": [
    "soda_types['Fanta'] = 1.2 # Adding a new key-value pair to the dictionary\n",
    "print(soda_types)"
   ]
  },
  {
   "cell_type": "code",
   "execution_count": 15,
   "id": "9308015b",
   "metadata": {},
   "outputs": [
    {
     "name": "stdout",
     "output_type": "stream",
     "text": [
      "{'Pepsi': 1.4, 'Sprite': 1.3, 'Fanta': 1.2}\n"
     ]
    }
   ],
   "source": [
    "soda_types.pop('Coke') # Removing 'Coke' from the dictionary\n",
    "print(soda_types)"
   ]
  },
  {
   "cell_type": "code",
   "execution_count": 18,
   "id": "257603c8",
   "metadata": {},
   "outputs": [
    {
     "name": "stdout",
     "output_type": "stream",
     "text": [
      "{'Pepsi': 1.4, 'Sprite': 1.3}\n"
     ]
    }
   ],
   "source": [
    "soda_types.popitem()# Removing the last inserted item from the dictionary\n",
    "print(soda_types)"
   ]
  },
  {
   "cell_type": "code",
   "execution_count": 19,
   "id": "358b5732",
   "metadata": {},
   "outputs": [
    {
     "name": "stdout",
     "output_type": "stream",
     "text": [
      "{'Sprite': 1.3}\n"
     ]
    }
   ],
   "source": [
    "del soda_types['Pepsi'] # Deleting the 'Pepsi' key from the dictionary also deletes it from the memory\n",
    "print(soda_types)"
   ]
  },
  {
   "cell_type": "code",
   "execution_count": 20,
   "id": "93250913",
   "metadata": {},
   "outputs": [
    {
     "name": "stdout",
     "output_type": "stream",
     "text": [
      "{'Sprite': 1.3}\n"
     ]
    }
   ],
   "source": [
    "soda_types_copy = soda_types.copy() # Creating a shallow copy of the dictionary\n",
    "print(soda_types_copy)"
   ]
  },
  {
   "cell_type": "markdown",
   "id": "2819e6a0",
   "metadata": {},
   "source": [
    "We Can Have Nested List As Well As Dictionaries"
   ]
  },
  {
   "cell_type": "code",
   "execution_count": 25,
   "id": "69a7a2bc",
   "metadata": {},
   "outputs": [
    {
     "name": "stdout",
     "output_type": "stream",
     "text": [
      "{'Green Tea': {'price': 2.5, 'ingredients': ['green tea leaves', 'water']}, 'Black Tea': {'price': 2.0, 'ingredients': ['black tea leaves', 'water']}, 'Herbal Tea': {'price': 3.0, 'ingredients': ['herbal blend', 'water']}}\n"
     ]
    }
   ],
   "source": [
    "tea_shop={\n",
    "    'Green Tea': {'price': 2.5, 'ingredients': ['green tea leaves', 'water']},\n",
    "    'Black Tea': {'price': 2.0, 'ingredients': ['black tea leaves', 'water']},\n",
    "    'Herbal Tea': {'price': 3.0, 'ingredients': ['herbal blend', 'water']}\n",
    "}\n",
    "print(tea_shop)"
   ]
  },
  {
   "cell_type": "code",
   "execution_count": 26,
   "id": "6a407870",
   "metadata": {},
   "outputs": [
    {
     "name": "stdout",
     "output_type": "stream",
     "text": [
      "{'price': 2.5, 'ingredients': ['green tea leaves', 'water']}\n"
     ]
    }
   ],
   "source": [
    "print(tea_shop['Green Tea']) # Accessing the price and ingredients of Green Tea"
   ]
  },
  {
   "cell_type": "code",
   "execution_count": 28,
   "id": "125569e7",
   "metadata": {},
   "outputs": [
    {
     "name": "stdout",
     "output_type": "stream",
     "text": [
      "['black tea leaves', 'water']\n"
     ]
    }
   ],
   "source": [
    "print(tea_shop['Black Tea']['ingredients']) # Accessing the ingredients of Black Tea"
   ]
  },
  {
   "cell_type": "code",
   "execution_count": 29,
   "id": "6d6755ff",
   "metadata": {},
   "outputs": [
    {
     "name": "stdout",
     "output_type": "stream",
     "text": [
      "{0: 0, 1: 1, 2: 8, 3: 27, 4: 64, 5: 125, 6: 216, 7: 343, 8: 512, 9: 729, 10: 1000}\n"
     ]
    }
   ],
   "source": [
    "squares={x:x**3 for x in range (11)}# Creating a dictionary with numbers as keys and their cubes as values\n",
    "print(squares)"
   ]
  },
  {
   "cell_type": "markdown",
   "id": "b43874a7",
   "metadata": {},
   "source": [
    "clear() is used to clear dict and list"
   ]
  },
  {
   "cell_type": "code",
   "execution_count": 30,
   "id": "16cc2e82",
   "metadata": {},
   "outputs": [
    {
     "name": "stdout",
     "output_type": "stream",
     "text": [
      "{}\n"
     ]
    }
   ],
   "source": [
    "squares.clear() # Clearing the dictionary\n",
    "print(squares)"
   ]
  },
  {
   "cell_type": "code",
   "execution_count": 31,
   "id": "2288aae7",
   "metadata": {},
   "outputs": [
    {
     "name": "stdout",
     "output_type": "stream",
     "text": [
      "{'a': [1, 2, 3], 'b': [1, 2, 3], 'c': [1, 2, 3]}\n"
     ]
    }
   ],
   "source": [
    "keys=['a', 'b', 'c']\n",
    "values=[1, 2, 3]\n",
    "new_dict=dict.fromkeys(keys, values) # Creating a dictionary from keys and values\n",
    "print(new_dict)"
   ]
  },
  {
   "cell_type": "markdown",
   "id": "5a1c9a48",
   "metadata": {},
   "source": [
    "NEW TOPIC"
   ]
  },
  {
   "cell_type": "markdown",
   "id": "49f8ffd4",
   "metadata": {},
   "source": [
    "Tuples In Python\n",
    "Tuple is Immutable"
   ]
  },
  {
   "cell_type": "code",
   "execution_count": 32,
   "id": "7219f2b4",
   "metadata": {},
   "outputs": [
    {
     "name": "stdout",
     "output_type": "stream",
     "text": [
      "('Coke', 'Pepsi', 'Sprite')\n"
     ]
    }
   ],
   "source": [
    "soda_types=('Coke', 'Pepsi', 'Sprite') # Creating a tuple with soda types\n",
    "print(soda_types)"
   ]
  },
  {
   "cell_type": "code",
   "execution_count": 33,
   "id": "a8d8b2ac",
   "metadata": {},
   "outputs": [
    {
     "name": "stdout",
     "output_type": "stream",
     "text": [
      "Sprite\n"
     ]
    }
   ],
   "source": [
    "print(soda_types[-1]) # Accessing the last element of the tuple using negative indexing soda_types[-1]"
   ]
  },
  {
   "cell_type": "code",
   "execution_count": null,
   "id": "c869624b",
   "metadata": {},
   "outputs": [],
   "source": [
    "soda_types[0] = 'Fanta' # Attempting to change the first element of the tuple (will raise an error)\n",
    "#as soda_types and tuples is immutable, this line will raise a TypeError"
   ]
  },
  {
   "cell_type": "code",
   "execution_count": 35,
   "id": "a20bc492",
   "metadata": {},
   "outputs": [
    {
     "data": {
      "text/plain": [
       "3"
      ]
     },
     "execution_count": 35,
     "metadata": {},
     "output_type": "execute_result"
    }
   ],
   "source": [
    "len(soda_types) # Getting the length of the tuple"
   ]
  },
  {
   "cell_type": "code",
   "execution_count": 41,
   "id": "fdcca8e5",
   "metadata": {},
   "outputs": [
    {
     "name": "stdout",
     "output_type": "stream",
     "text": [
      "('Coke', 'Pepsi', 'Sprite', 'Fanta', '7Up', 'Mirinda', 'Coke')\n"
     ]
    }
   ],
   "source": [
    "more_soda_types = ('Fanta', '7Up', 'Mirinda','Coke') # Creating another tuple with more soda types\n",
    "all_soda_types = soda_types + more_soda_types # Concatenating two tuples\n",
    "print(all_soda_types)"
   ]
  },
  {
   "cell_type": "code",
   "execution_count": 43,
   "id": "52233876",
   "metadata": {},
   "outputs": [
    {
     "data": {
      "text/plain": [
       "2"
      ]
     },
     "execution_count": 43,
     "metadata": {},
     "output_type": "execute_result"
    }
   ],
   "source": [
    "all_soda_types.count('Coke') # Counting the occurrences of 'Coke' in the tuple"
   ]
  },
  {
   "cell_type": "code",
   "execution_count": 44,
   "id": "3f461c2b",
   "metadata": {},
   "outputs": [
    {
     "name": "stdout",
     "output_type": "stream",
     "text": [
      "Coke Pepsi Sprite\n"
     ]
    }
   ],
   "source": [
    "(coke, pepsi, sprite) = soda_types # Unpacking the tuple into variables\n",
    "print(coke, pepsi, sprite) # Printing the unpacked variables"
   ]
  },
  {
   "cell_type": "markdown",
   "id": "a0e98fd4",
   "metadata": {},
   "source": [
    "Nesting Is Also Allowed In Tuple"
   ]
  }
 ],
 "metadata": {
  "kernelspec": {
   "display_name": "base",
   "language": "python",
   "name": "python3"
  },
  "language_info": {
   "codemirror_mode": {
    "name": "ipython",
    "version": 3
   },
   "file_extension": ".py",
   "mimetype": "text/x-python",
   "name": "python",
   "nbconvert_exporter": "python",
   "pygments_lexer": "ipython3",
   "version": "3.13.5"
  }
 },
 "nbformat": 4,
 "nbformat_minor": 5
}
