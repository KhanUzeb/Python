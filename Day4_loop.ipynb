{
 "cells": [
  {
   "cell_type": "markdown",
   "id": "d55be730",
   "metadata": {},
   "source": [
    "LOOPS PROBLEMS IN PYTHON"
   ]
  },
  {
   "cell_type": "markdown",
   "id": "1e3ccf31",
   "metadata": {},
   "source": [
    "Q1. COUNT POSITIVE NUMBERS"
   ]
  },
  {
   "cell_type": "code",
   "execution_count": null,
   "id": "cb1ee3d9",
   "metadata": {},
   "outputs": [
    {
     "name": "stdout",
     "output_type": "stream",
     "text": [
      "Positive numbers count: 6\n"
     ]
    }
   ],
   "source": [
    "num=[1,-2,3,-4,5,6,-7,8,-9,10,-11,12,-13]\n",
    "count=0\n",
    "for i in num:\n",
    "    if i>0:\n",
    "        count+= 1\n",
    "print(\"Positive numbers count:\", count)"
   ]
  },
  {
   "cell_type": "markdown",
   "id": "32d82595",
   "metadata": {},
   "source": [
    "Q2. Sum Of Even Numbers"
   ]
  },
  {
   "cell_type": "code",
   "execution_count": 41,
   "id": "0bbc2286",
   "metadata": {},
   "outputs": [
    {
     "name": "stdout",
     "output_type": "stream",
     "text": [
      "Sum of even numbers: 56\n"
     ]
    }
   ],
   "source": [
    "num=int(input(\"enter the number:\"))\n",
    "even_sum=0\n",
    "if num%2==0:\n",
    "    for i in range(1,num+1):\n",
    "        if i%2==0:\n",
    "            even_sum+=i\n",
    "    print(\"Sum of even numbers:\",even_sum)"
   ]
  },
  {
   "cell_type": "markdown",
   "id": "8942b84e",
   "metadata": {},
   "source": [
    "Q3. Multiplication Table Printer"
   ]
  },
  {
   "cell_type": "code",
   "execution_count": 45,
   "id": "83880391",
   "metadata": {},
   "outputs": [
    {
     "name": "stdout",
     "output_type": "stream",
     "text": [
      "3 x 1 = 3\n",
      "3 x 2 = 6\n",
      "3 x 3 = 9\n",
      "3 x 4 = 12\n",
      "3 x 6 = 18\n",
      "3 x 7 = 21\n",
      "3 x 8 = 24\n",
      "3 x 9 = 27\n",
      "3 x 10 = 30\n"
     ]
    }
   ],
   "source": [
    "num=int(input(\"enter the number:\"))\n",
    "for i in range(1,11):\n",
    "    if i==5:\n",
    "        continue\n",
    "    print(num,'x',i,'=',num*i)"
   ]
  },
  {
   "cell_type": "markdown",
   "id": "de742162",
   "metadata": {},
   "source": [
    "Q4. REVERSE A STRING"
   ]
  },
  {
   "cell_type": "code",
   "execution_count": 46,
   "id": "27d9fc1d",
   "metadata": {},
   "outputs": [
    {
     "name": "stdout",
     "output_type": "stream",
     "text": [
      "bezu\n"
     ]
    }
   ],
   "source": [
    "in_str=str(input(\"enter the string:\"))\n",
    "rev_str=''\n",
    "for char in in_str:\n",
    "    rev_str=char+rev_str\n",
    "print(rev_str)"
   ]
  },
  {
   "cell_type": "markdown",
   "id": "3e28e6e2",
   "metadata": {},
   "source": [
    "Q5.First Non Repeated Char IN STRING"
   ]
  },
  {
   "cell_type": "code",
   "execution_count": 47,
   "id": "f1b94ca8",
   "metadata": {},
   "outputs": [
    {
     "name": "stdout",
     "output_type": "stream",
     "text": [
      "First non-repeated character is: r\n"
     ]
    }
   ],
   "source": [
    "in_str=str(input(\"Enter a string: \"))\n",
    "for char in in_str:\n",
    "    if in_str.count(char) == 1:\n",
    "        print(\"First non-repeated character is:\", char)\n",
    "        break"
   ]
  },
  {
   "cell_type": "markdown",
   "id": "49c551d5",
   "metadata": {},
   "source": [
    "Q6. Factorial Calculator"
   ]
  },
  {
   "cell_type": "code",
   "execution_count": 51,
   "id": "ef3a7610",
   "metadata": {},
   "outputs": [
    {
     "name": "stdout",
     "output_type": "stream",
     "text": [
      "The factorial of 7 is 5040\n"
     ]
    }
   ],
   "source": [
    "n=int(input(\"Enter a number: \"))\n",
    "n_copy=n\n",
    "factorial = 1\n",
    "while n >0:\n",
    "    factorial *=n\n",
    "    n -= 1\n",
    "print(f\"The factorial of {n_copy} is {factorial}\")"
   ]
  },
  {
   "cell_type": "markdown",
   "id": "46113914",
   "metadata": {},
   "source": [
    "Q7. VAlidate Input"
   ]
  },
  {
   "cell_type": "code",
   "execution_count": 59,
   "id": "c527f79f",
   "metadata": {},
   "outputs": [
    {
     "name": "stdout",
     "output_type": "stream",
     "text": [
      "Invalid input. Please enter a number between 1 and 10.\n",
      "Valid input: 10\n"
     ]
    }
   ],
   "source": [
    "while True:\n",
    "    n = int(input(\"Enter a number: \"))\n",
    "    if 1<= n <= 10:\n",
    "        print(\"Valid input:\", n)\n",
    "        break\n",
    "    else:\n",
    "        print(\"Invalid input. Please enter a number between 1 and 10.\")"
   ]
  },
  {
   "cell_type": "markdown",
   "id": "264aad68",
   "metadata": {},
   "source": [
    "Q8. Prime Number Checker"
   ]
  },
  {
   "cell_type": "code",
   "execution_count": null,
   "id": "467f23a3",
   "metadata": {},
   "outputs": [
    {
     "name": "stdout",
     "output_type": "stream",
     "text": [
      "78 is not a prime number\n"
     ]
    }
   ],
   "source": [
    "n=int(input(\"Enter A Number:\"))\n",
    "is_prime = True\n",
    "if n>1:\n",
    "    for i in range(2,n):\n",
    "        if n%i==0:\n",
    "            is_prime=False\n",
    "            break\n",
    "if is_prime:\n",
    "    print(n,\"is a prime number\")\n",
    "else:\n",
    "    print(n,\"is not a prime number\")"
   ]
  },
  {
   "cell_type": "markdown",
   "id": "6989cff2",
   "metadata": {},
   "source": [
    "Q9. UNIQUE ITEMS IN A LIST"
   ]
  },
  {
   "cell_type": "code",
   "execution_count": 6,
   "id": "ba1ac990",
   "metadata": {},
   "outputs": [
    {
     "name": "stdout",
     "output_type": "stream",
     "text": [
      "Duplicate item found: apple\n"
     ]
    }
   ],
   "source": [
    "items=[\"apple\",\"banana\",\"orange\",\"apple\",\"kiwi\",\"banana\",\"apple\"]\n",
    "unique_items=[]\n",
    "for item in items:\n",
    "    if item in unique_items:\n",
    "        print(\"Duplicate item found:\", item)\n",
    "        break\n",
    "    else:\n",
    "        unique_items.append(item)"
   ]
  },
  {
   "cell_type": "markdown",
   "id": "87702bca",
   "metadata": {},
   "source": [
    "Q10. EXPONENTIAL BACKOFF"
   ]
  },
  {
   "cell_type": "code",
   "execution_count": null,
   "id": "550d0e07",
   "metadata": {},
   "outputs": [],
   "source": [
    "import time\n",
    "wait_time=1\n",
    "max_try=5\n",
    "attempts=0\n",
    "\n",
    "while attempts < max_try:\n",
    "    print(f\"Attempt {attempts + 1} of {max_try}\",wait_time,\"seconds\")\n",
    "    time.sleep(wait_time)\n",
    "    wait_time *= 2\n",
    "    attempts += 1\n",
    "    if attempts == max_try:\n",
    "        print(\"Maximum attempts reached. Exiting.\")\n",
    "        break"
   ]
  },
  {
   "cell_type": "markdown",
   "id": "4dcb25a4",
   "metadata": {},
   "source": [
    "WORKFLOW OF PYTHON LOOPS\n",
    "ITERATION TOOLS\n",
    "(for,comprehension)"
   ]
  },
  {
   "cell_type": "markdown",
   "id": "832300f5",
   "metadata": {},
   "source": [
    "Iterable Objects\n",
    "(list,file)\n",
    "iter is applied on a objects\n",
    "then next and next is done until there is no object left in memory reference except break exit continue"
   ]
  }
 ],
 "metadata": {
  "kernelspec": {
   "display_name": "base",
   "language": "python",
   "name": "python3"
  },
  "language_info": {
   "codemirror_mode": {
    "name": "ipython",
    "version": 3
   },
   "file_extension": ".py",
   "mimetype": "text/x-python",
   "name": "python",
   "nbconvert_exporter": "python",
   "pygments_lexer": "ipython3",
   "version": "3.13.5"
  }
 },
 "nbformat": 4,
 "nbformat_minor": 5
}
