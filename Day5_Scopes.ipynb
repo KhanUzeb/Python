{
 "cells": [
  {
   "cell_type": "markdown",
   "id": "8e36047e",
   "metadata": {},
   "source": [
    "SCOPES AND CLOSURES IN PYTHON"
   ]
  },
  {
   "cell_type": "code",
   "execution_count": 8,
   "id": "2a4b74b1",
   "metadata": {},
   "outputs": [
    {
     "name": "stdout",
     "output_type": "stream",
     "text": [
      "Username: user123, Password: pass123\n"
     ]
    }
   ],
   "source": [
    "username = \"user123\"\n",
    "# This script demonstrates the use of a global variable and a local variable.\n",
    "def func():\n",
    "    #username = \"user123\"\n",
    "    password = \"pass123\"\n",
    "    print(f\"Username: {username}, Password: {password}\")\n",
    "func()"
   ]
  },
  {
   "cell_type": "code",
   "execution_count": 9,
   "id": "47a10f7f",
   "metadata": {},
   "outputs": [
    {
     "data": {
      "text/plain": [
       "109"
      ]
     },
     "execution_count": 9,
     "metadata": {},
     "output_type": "execute_result"
    }
   ],
   "source": [
    "x=99\n",
    "def func2(y):\n",
    "    z=x+y\n",
    "    return z\n",
    "func2(10)\n",
    "# This function uses a global variable `x` and a local variable `y` to compute a sum."
   ]
  },
  {
   "cell_type": "code",
   "execution_count": 12,
   "id": "e6463749",
   "metadata": {},
   "outputs": [
    {
     "name": "stdout",
     "output_type": "stream",
     "text": [
      "Modified global x: 100\n"
     ]
    }
   ],
   "source": [
    "def func3():\n",
    "    global x\n",
    "    x = 100  # Modifying the global variable `x`\n",
    "    print(f\"Modified global x: {x}\")\n",
    "func3()"
   ]
  },
  {
   "cell_type": "code",
   "execution_count": 21,
   "id": "16e8906c",
   "metadata": {},
   "outputs": [
    {
     "name": "stdout",
     "output_type": "stream",
     "text": [
      "88\n"
     ]
    }
   ],
   "source": [
    "def f1():\n",
    "    x=88\n",
    "    def f2():\n",
    "        print(x)\n",
    "    return f2()\n",
    "myvar=f1()\n",
    "#this function demonstrates the use of a local variable `x` within a nested function `f2`."
   ]
  },
  {
   "cell_type": "code",
   "execution_count": 25,
   "id": "782756cc",
   "metadata": {},
   "outputs": [
    {
     "data": {
      "text/plain": [
       "27"
      ]
     },
     "execution_count": 25,
     "metadata": {},
     "output_type": "execute_result"
    }
   ],
   "source": [
    "def code(num):\n",
    "    def actual(x):\n",
    "        return x **num\n",
    "    return actual\n",
    "f=code(3)\n",
    "f(3)\n",
    "#This function returns a closure that raises the value of x to the power of num."
   ]
  },
  {
   "cell_type": "markdown",
   "id": "42bd1bd6",
   "metadata": {},
   "source": [
    "DECORATORS IN PYTHON"
   ]
  },
  {
   "cell_type": "markdown",
   "id": "67f03353",
   "metadata": {},
   "source": [
    "TIMING FUNCTION"
   ]
  },
  {
   "cell_type": "code",
   "execution_count": 36,
   "id": "ade5ad24",
   "metadata": {},
   "outputs": [
    {
     "name": "stdout",
     "output_type": "stream",
     "text": [
      "Function example_function took 2.0002 seconds to execute.\n",
      "Function wrapper took 2.0004 seconds to execute.\n",
      "Result: 15\n"
     ]
    }
   ],
   "source": [
    "import time\n",
    "def timing_function(func):\n",
    "    def wrapper(*args, **kwargs):\n",
    "        start=time.time()   # Record the start time\n",
    "        result = func(*args, **kwargs)        # Measure the time taken to execute the function\n",
    "        end=time.time()     # Record the end time\n",
    "        print(f\"Function {func.__name__} took {end - start:.4f} seconds to execute.\")\n",
    "        return result\n",
    "    return wrapper\n",
    "@timing_function\n",
    "def example_function(x):\n",
    "    time.sleep(2)  # Simulate a delay\n",
    "    return x * 3\n",
    "\n",
    "example_function = timing_function(example_function)\n",
    "result = example_function(5)\n",
    "print(f\"Result: {result}\")"
   ]
  },
  {
   "cell_type": "markdown",
   "id": "19ebf38b",
   "metadata": {},
   "source": [
    "Q2. Debugging Function Call"
   ]
  },
  {
   "cell_type": "code",
   "execution_count": null,
   "id": "b8211472",
   "metadata": {},
   "outputs": [
    {
     "name": "stdout",
     "output_type": "stream",
     "text": [
      "Calling function 'greet' with arguments: ('Uzeb',) and keyword arguments: {}\n",
      "Hello, Uzeb!\n",
      "Function 'greet' returned: None\n",
      "Calling function 'greet' with arguments: ('Bob', 'Hi') and keyword arguments: {}\n",
      "Hi, Bob!\n",
      "Function 'greet' returned: None\n"
     ]
    }
   ],
   "source": [
    "def debug(func):\n",
    "    def wrapper(*args, **kwargs):\n",
    "        args_values = ', '.join(str(arg) for arg in args)\n",
    "        kwargs_values = ', '.join(f\"{k}={v}\" for k, v in kwargs.items())\n",
    "        print(f\"Calling function '{func.__name__}' with arguments: {args} and keyword arguments: {kwargs}\")\n",
    "        result = func(*args, **kwargs)\n",
    "        print(f\"Function '{func.__name__}' returned: {result}\")\n",
    "        return result\n",
    "    return wrapper\n",
    "@debug\n",
    "def greet(name,greeting=\"Hello\"):\n",
    "    print(f\"{greeting}, {name}!\")\n",
    "greet(\"Uzeb\")\n",
    "greet(\"Bob\", \"Hi\")\n",
    "#   This function demonstrates the use of a decorator to log function calls and their results."
   ]
  },
  {
   "cell_type": "markdown",
   "id": "554667d9",
   "metadata": {},
   "source": [
    "Q3.CACHE RETURN VALUES"
   ]
  },
  {
   "cell_type": "code",
   "execution_count": 64,
   "id": "850ecff4",
   "metadata": {},
   "outputs": [
    {
     "name": "stdout",
     "output_type": "stream",
     "text": [
      "Calculating result for (2, 5)\n",
      "7\n",
      "Calculating result for (2, 9)\n",
      "11\n"
     ]
    }
   ],
   "source": [
    "import time\n",
    "def cache(func):\n",
    "    cached_results = {}\n",
    "    def wrapper(*args):\n",
    "        if args in cached_results:\n",
    "            print(f\"Returning cached result for {args}\")\n",
    "            return cached_results[args]\n",
    "        else:\n",
    "            print(f\"Calculating result for {args}\")\n",
    "            result = func(*args)\n",
    "            cached_results[args] = result\n",
    "            return result\n",
    "    return wrapper\n",
    "@cache\n",
    "def long_running_function(a,b):\n",
    "    time.sleep(3)  # Simulate a long-running operation\n",
    "    return a+b\n",
    "print(long_running_function(2,5))\n",
    "print(long_running_function(2,9))  # This will return the cached result"
   ]
  }
 ],
 "metadata": {
  "kernelspec": {
   "display_name": "base",
   "language": "python",
   "name": "python3"
  },
  "language_info": {
   "codemirror_mode": {
    "name": "ipython",
    "version": 3
   },
   "file_extension": ".py",
   "mimetype": "text/x-python",
   "name": "python",
   "nbconvert_exporter": "python",
   "pygments_lexer": "ipython3",
   "version": "3.13.5"
  }
 },
 "nbformat": 4,
 "nbformat_minor": 5
}
