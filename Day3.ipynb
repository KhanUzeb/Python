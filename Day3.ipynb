{
 "cells": [
  {
   "cell_type": "markdown",
   "id": "d21bad4c",
   "metadata": {},
   "source": [
    "LIST IN PYTHON \n",
    "[] is used to denote arrays or list"
   ]
  },
  {
   "cell_type": "code",
   "execution_count": 3,
   "id": "5c2b7945",
   "metadata": {},
   "outputs": [
    {
     "name": "stdout",
     "output_type": "stream",
     "text": [
      "['black', 'green', 'herbal', 'oolong']\n"
     ]
    }
   ],
   "source": [
    "tea_varities = ['black', 'green', 'herbal', 'oolong']\n",
    "print(tea_varities)"
   ]
  },
  {
   "cell_type": "markdown",
   "id": "bcd258f8",
   "metadata": {},
   "source": [
    "Basic Slicing And Adding Of List"
   ]
  },
  {
   "cell_type": "code",
   "execution_count": 4,
   "id": "167082c5",
   "metadata": {},
   "outputs": [
    {
     "name": "stdout",
     "output_type": "stream",
     "text": [
      "oolong\n",
      "['herbal', 'oolong']\n"
     ]
    }
   ],
   "source": [
    "print(tea_varities[-1]) # Accessing the first element from the end\n",
    "print(tea_varities[2:]) # Slicing the list from index 2 to the end"
   ]
  },
  {
   "cell_type": "code",
   "execution_count": 5,
   "id": "a41d146c",
   "metadata": {},
   "outputs": [
    {
     "name": "stdout",
     "output_type": "stream",
     "text": [
      "['black', 'green', 'herbal', 'ginger']\n"
     ]
    }
   ],
   "source": [
    "tea_varities[3]='ginger'\n",
    "print(tea_varities)"
   ]
  },
  {
   "cell_type": "code",
   "execution_count": 6,
   "id": "121cb931",
   "metadata": {},
   "outputs": [
    {
     "name": "stdout",
     "output_type": "stream",
     "text": [
      "['black', 'jasmine', 'herbal', 'ginger']\n"
     ]
    }
   ],
   "source": [
    "tea_varities[1:2]=['jasmine']\n",
    "print(tea_varities)"
   ]
  },
  {
   "cell_type": "code",
   "execution_count": 7,
   "id": "2ec19ebd",
   "metadata": {},
   "outputs": [
    {
     "name": "stdout",
     "output_type": "stream",
     "text": [
      "['black', 'lemon', 'mint', 'ginger']\n"
     ]
    }
   ],
   "source": [
    "tea_varities[1:3]=['lemon', 'mint']\n",
    "print(tea_varities)"
   ]
  },
  {
   "cell_type": "code",
   "execution_count": null,
   "id": "84700218",
   "metadata": {},
   "outputs": [
    {
     "name": "stdout",
     "output_type": "stream",
     "text": [
      "['black', 'ginger']\n"
     ]
    }
   ],
   "source": [
    "tea_varities[1:3]=[]#insert empty list or remove elements\n",
    "print(tea_varities)"
   ]
  },
  {
   "cell_type": "code",
   "execution_count": null,
   "id": "a98f41c4",
   "metadata": {},
   "outputs": [
    {
     "name": "stdout",
     "output_type": "stream",
     "text": [
      "black\n",
      "green\n",
      "herbal\n",
      "oolong\n"
     ]
    }
   ],
   "source": [
    "tea_varities=['black', 'green', 'herbal', 'oolong']\n",
    "for tea in tea_varities:\n",
    "    print(tea)# Iterating through the list"
   ]
  },
  {
   "cell_type": "code",
   "execution_count": 10,
   "id": "5156543f",
   "metadata": {},
   "outputs": [
    {
     "name": "stdout",
     "output_type": "stream",
     "text": [
      "black-green-herbal-oolong-"
     ]
    }
   ],
   "source": [
    "for tea in tea_varities:\n",
    "    print(tea,end='-')# Iterating through the list with custom separator"
   ]
  },
  {
   "cell_type": "markdown",
   "id": "568be3a8",
   "metadata": {},
   "source": [
    "Append() function add a objects in last of list"
   ]
  },
  {
   "cell_type": "code",
   "execution_count": 11,
   "id": "af4da172",
   "metadata": {},
   "outputs": [
    {
     "name": "stdout",
     "output_type": "stream",
     "text": [
      "['black', 'green', 'herbal', 'oolong', 'mint']\n"
     ]
    }
   ],
   "source": [
    "tea_varities.append('mint') # Appending an item to the list\n",
    "print(tea_varities)"
   ]
  },
  {
   "cell_type": "code",
   "execution_count": 12,
   "id": "e02dbbf7",
   "metadata": {},
   "outputs": [
    {
     "name": "stdout",
     "output_type": "stream",
     "text": [
      "Green tea is available\n"
     ]
    }
   ],
   "source": [
    "if 'green' in tea_varities:\n",
    "    print(\"Green tea is available\") # Checking if an item exists in the list"
   ]
  },
  {
   "cell_type": "markdown",
   "id": "0389cb30",
   "metadata": {},
   "source": [
    "Pop() delete the last object in list"
   ]
  },
  {
   "cell_type": "code",
   "execution_count": 13,
   "id": "a5574ba6",
   "metadata": {},
   "outputs": [
    {
     "name": "stdout",
     "output_type": "stream",
     "text": [
      "['black', 'green', 'herbal', 'oolong']\n"
     ]
    }
   ],
   "source": [
    "tea_varities.pop() # Pop delete the last object in list\n",
    "print(tea_varities)"
   ]
  },
  {
   "cell_type": "markdown",
   "id": "8340d3d6",
   "metadata": {},
   "source": [
    "remove() is used to remove a particular object irrespective of there position"
   ]
  },
  {
   "cell_type": "code",
   "execution_count": 14,
   "id": "496637ef",
   "metadata": {},
   "outputs": [
    {
     "name": "stdout",
     "output_type": "stream",
     "text": [
      "['green', 'herbal', 'oolong']\n"
     ]
    }
   ],
   "source": [
    "tea_varities.remove(\"black\") # Remove a specific item from the list\n",
    "print(tea_varities)"
   ]
  },
  {
   "cell_type": "markdown",
   "id": "97338e49",
   "metadata": {},
   "source": [
    "insert() is used to add an object where we have to specify position and object"
   ]
  },
  {
   "cell_type": "code",
   "execution_count": 15,
   "id": "e30997a9",
   "metadata": {},
   "outputs": [
    {
     "name": "stdout",
     "output_type": "stream",
     "text": [
      "['green', 'chamomile', 'herbal', 'oolong']\n"
     ]
    }
   ],
   "source": [
    "tea_varities.insert(1, 'chamomile') # Insert an item at a specific position\n",
    "print(tea_varities)"
   ]
  },
  {
   "cell_type": "markdown",
   "id": "cbba9301",
   "metadata": {},
   "source": [
    ".copy() is used to create a copy not make a reference of it"
   ]
  },
  {
   "cell_type": "code",
   "execution_count": 16,
   "id": "2ff7f91c",
   "metadata": {},
   "outputs": [
    {
     "name": "stdout",
     "output_type": "stream",
     "text": [
      "['green', 'chamomile', 'herbal', 'oolong']\n"
     ]
    }
   ],
   "source": [
    "tea_varities_copy= tea_varities.copy() # Create a copy of the list\n",
    "print(tea_varities_copy)"
   ]
  },
  {
   "cell_type": "markdown",
   "id": "f74f020c",
   "metadata": {},
   "source": [
    "list comprehension we can calculate in the list in python"
   ]
  },
  {
   "cell_type": "markdown",
   "id": "3c929b29",
   "metadata": {},
   "source": [
    "Range Gives a range from starting from start to end and give values and last num is not included"
   ]
  },
  {
   "cell_type": "code",
   "execution_count": 18,
   "id": "7d8b0c4f",
   "metadata": {},
   "outputs": [
    {
     "name": "stdout",
     "output_type": "stream",
     "text": [
      "[0, 1, 4, 9, 16, 25, 36, 49, 64, 81, 100, 121]\n"
     ]
    }
   ],
   "source": [
    "squares = [x**2 for x in range(12)] # List comprehension to create a list of squares\n",
    "print(squares)"
   ]
  },
  {
   "cell_type": "code",
   "execution_count": 19,
   "id": "a5fd5194",
   "metadata": {},
   "outputs": [
    {
     "name": "stdout",
     "output_type": "stream",
     "text": [
      "[0, 1, 16, 81, 256, 625, 1296, 2401, 4096, 6561, 10000, 14641]\n"
     ]
    }
   ],
   "source": [
    "cube=[x**4 for x in range(12)] # List comprehension to create a list of cubes\n",
    "print(cube)"
   ]
  }
 ],
 "metadata": {
  "kernelspec": {
   "display_name": "base",
   "language": "python",
   "name": "python3"
  },
  "language_info": {
   "codemirror_mode": {
    "name": "ipython",
    "version": 3
   },
   "file_extension": ".py",
   "mimetype": "text/x-python",
   "name": "python",
   "nbconvert_exporter": "python",
   "pygments_lexer": "ipython3",
   "version": "3.13.5"
  }
 },
 "nbformat": 4,
 "nbformat_minor": 5
}
